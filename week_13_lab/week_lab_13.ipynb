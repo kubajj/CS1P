{
 "cells": [
  {
   "cell_type": "code",
   "execution_count": null,
   "metadata": {},
   "outputs": [],
   "source": [
    "def quickSort(mylist):\n",
    "    less = []\n",
    "    more = []\n",
    "    if len(mylist) <= 1:\n",
    "        return mylist\n",
    "    else:\n",
    "        pivot = mylist[0]\n",
    "        for i in mylist:\n",
    "            if i < pivot:\n",
    "                less.append(i)\n",
    "            elif i > pivot:\n",
    "                more.append(i)\n",
    "        less = quickSort(less)\n",
    "        more = quickSort(more)\n",
    "        return less + [pivot] + more\n",
    "a = [4, 65, 2, -31, 0, 99, 83, 782, 1]\n",
    "a = quickSort(a)"
   ]
  },
  {
   "cell_type": "code",
   "execution_count": 5,
   "metadata": {},
   "outputs": [
    {
     "name": "stdout",
     "output_type": "stream",
     "text": [
      "[-31, 0, 1, 2, 4, 65, 83, 99, 782]\n"
     ]
    }
   ],
   "source": [
    "def rec_quickSort(l):    \n",
    "    if len(l) <= 1:\n",
    "        return l\n",
    "    else:\n",
    "        pivot = l[0]        \n",
    "        less = [x for x in l if x < pivot]\n",
    "        more = [x for x in l if x > pivot]\n",
    "        p = [x for x in l if x == pivot]\n",
    "        return rec_quickSort(less) + p + rec_quickSort(more)\n",
    "    \n",
    "a = [4, 65, 2, -31, 0, 99, 83, 782, 1]\n",
    "a = rec_quickSort(a)\n",
    "\n",
    "print(a)"
   ]
  },
  {
   "cell_type": "code",
   "execution_count": 66,
   "metadata": {},
   "outputs": [
    {
     "data": {
      "text/plain": [
       "4"
      ]
     },
     "execution_count": 66,
     "metadata": {},
     "output_type": "execute_result"
    }
   ],
   "source": [
    "def rec_bin_search(l, elt, default=-1, start=0):\n",
    "    if not elt in l:\n",
    "        return default\n",
    "    else:\n",
    "        pos = len(l) // 2\n",
    "        if l[pos] < elt:\n",
    "            return rec_bin_search(l[pos:],elt, start=start+pos)\n",
    "        elif l[pos] > elt:\n",
    "            return rec_bin_search(l[:pos],elt,start=start)\n",
    "        else:\n",
    "            return start + pos\n",
    "            \n",
    "    \n",
    "\n",
    "#rec_bin_search([7,7,7,7,7,7,7,7],7,\"It's not there\") # ask tutor how to solve this problem\n",
    "l1 = ['I', 'Love', 'cat', 'cool', 'hello', 'is', 'it', 'this', 'wow']\n",
    "elt1 = 'hello'\n",
    "rec_bin_search(l1,elt1,\"It's not there\")"
   ]
  },
  {
   "cell_type": "code",
   "execution_count": 65,
   "metadata": {},
   "outputs": [
    {
     "data": {
      "text/plain": [
       "2"
      ]
     },
     "execution_count": 65,
     "metadata": {},
     "output_type": "execute_result"
    }
   ],
   "source": [
    "# lecturers solution - not recursive\n",
    "def find(key,data):\n",
    "    lower = 0\n",
    "    upper = len(data)-1\n",
    "    length = upper - lower + 1\n",
    "    while length > 1:\n",
    "        midpoint = lower + length//2 # Floor division\n",
    "        if key < data[midpoint]:\n",
    "            upper = midpoint - 1 # look at lower half\n",
    "        else:\n",
    "            lower = midpoint\n",
    "    # look at upper half\n",
    "        length = upper - lower + 1\n",
    "    if key == data[lower]:\n",
    "        return lower\n",
    "    else:\n",
    "        return \"Not there\"\n",
    "l = [1, 3, 6, 7, 7, 7 ,88, 103, 426]\n",
    "elt = 7\n",
    "#first_and_last(l,elt)\n",
    "find(6,l)"
   ]
  },
  {
   "cell_type": "code",
   "execution_count": null,
   "metadata": {},
   "outputs": [],
   "source": [
    "%%timeit\n",
    "def first_and_last(l,elt):\n",
    "    found = False\n",
    "    for i, element in enumerate(l):\n",
    "        if elt == element and not found:\n",
    "            found = True\n",
    "            print(\"First occurence =\", i)\n",
    "        if not elt == element and found:\n",
    "            print(\"Last occurence =\", i-1)\n",
    "            break\n",
    "\n",
    "l = [1, 3, 6, 7, 7, 7 ,88, 103, 426]\n",
    "elt = 7\n",
    "first_and_last(l,elt)\n",
    "first_and_last(l,6)"
   ]
  },
  {
   "cell_type": "code",
   "execution_count": null,
   "metadata": {},
   "outputs": [],
   "source": [
    "%%timeit\n",
    "def find(key,data):\n",
    "    lower = 0\n",
    "    upper = len(data)-1\n",
    "    length = upper - lower + 1\n",
    "    while length > 1:\n",
    "        midpoint = lower + length//2 # Floor division\n",
    "        if key < data[midpoint]:\n",
    "            upper = midpoint - 1 # look at lower half\n",
    "        else:\n",
    "            lower = midpoint\n",
    "    # look at upper half\n",
    "        length = upper - lower + 1\n",
    "    if key == data[lower]:\n",
    "        return lower\n",
    "    else:\n",
    "        return \"Not there\"\n",
    "        \n",
    "def first_and_last(l,elt):\n",
    "    pos = find(elt, l)\n",
    "    first = pos\n",
    "    last = pos\n",
    "    found_first = False\n",
    "    found_last = False\n",
    "    while not found_first or not found_last:\n",
    "        if not found_first:\n",
    "            if not l[first] == elt:\n",
    "                first += 1\n",
    "                found_first = True\n",
    "            else:\n",
    "                first -= 1\n",
    "        if not found_last:\n",
    "            if not l[last] == elt:\n",
    "                last -= 1\n",
    "                found_last = True\n",
    "            else:\n",
    "                last += 1\n",
    "    print(\"First occurence =\", first)\n",
    "    print(\"Last occurence =\", last)\n",
    "\n",
    "l = [1, 3, 6, 7, 7, 7 ,88, 103, 426]\n",
    "elt = 7\n",
    "first_and_last(l,elt)\n",
    "first_and_last(l,6)"
   ]
  },
  {
   "cell_type": "code",
   "execution_count": null,
   "metadata": {},
   "outputs": [],
   "source": []
  }
 ],
 "metadata": {
  "kernelspec": {
   "display_name": "Python 3",
   "language": "python",
   "name": "python3"
  },
  "language_info": {
   "codemirror_mode": {
    "name": "ipython",
    "version": 3
   },
   "file_extension": ".py",
   "mimetype": "text/x-python",
   "name": "python",
   "nbconvert_exporter": "python",
   "pygments_lexer": "ipython3",
   "version": "3.8.1"
  }
 },
 "nbformat": 4,
 "nbformat_minor": 2
}
