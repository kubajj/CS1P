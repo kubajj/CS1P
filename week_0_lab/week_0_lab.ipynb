{
 "cells": [
  {
   "cell_type": "markdown",
   "metadata": {},
   "source": [
    " # Introduction to CS1P\n",
    " ##### CS1P - University of Glasgow - John H. Williamson - 2019/2020 (Python 3.x)\n",
    " \n",
    " ### These instructions are for students taking CS1P.\n",
    " \n",
    "\n",
    " There are three parts to this lab:\n",
    " \n",
    " 1. Setting up your device to use YACRS.\n",
    " 2. Introduction to Jupyter.\n",
    " 3. A first lab exercise.\n",
    " \n",
    " \n",
    " <div class=\"alert alert-block alert-danger\"> Please complete all three before leaving </div>"
   ]
  },
  {
   "cell_type": "markdown",
   "metadata": {},
   "source": [
    "\n",
    "# Part 1: Setting up your device to use your phone/tablet/laptop as a voting device\n",
    "## <font color=\"red\">This is essential to participate in lectures </font>\n",
    "\n",
    "All of the lectures will extensively use an online voting system in lectures. This uses your mobile phone or tablet. Set up your device now so you can participate in lectures.\n",
    "\n",
    "---\n",
    "\n",
    "\n",
    "## On your mobile phone\n",
    "* **On your phone and *not* on this computer,** go to `http://classresponse.gla.ac.uk`\n",
    "* Bookmark the page now\n",
    "* Join session **361**\n",
    "* Answer the following question: *How much experience do you have of programming?*\n",
    "    * A: None at all. I'm completely new to this.\n",
    "    * B: A little; I've written some small programs. I know what a `for` loop is\n",
    "    * C: I've written some fairly large programs. I know how to structure a program.\n",
    "    * D: I'm an experienced programmer, and have programmed intensively for several years.\n"
   ]
  },
  {
   "cell_type": "markdown",
   "metadata": {},
   "source": [
    "# Part 2: Introduction to Jupyter.\n",
    "\n",
    "Follow each of the instructions. Make sure you do the numbered steps in the coloured highlight boxes. \n",
    "\n",
    "-----\n",
    "\n",
    "\n",
    "### Cells\n",
    "\n",
    "The notebook is made up of **cells**. A cell is a snippet of code or text. You can break up code into cells as you wish. Each cell with code in it can be run on its own.\n",
    "\n",
    "* Click on a cell to highlight it \n",
    "* Press SHIFT-ENTER to run the code (hold SHIFT, then press ENTER).\n",
    "<br><br>\n",
    "\n",
    "<div class=\"alert alert-block alert-info\"> 1) Try this on the cell below:  </div>\n"
   ]
  },
  {
   "cell_type": "code",
   "execution_count": 4,
   "metadata": {
    "nbgrader": {
     "grade": false,
     "locked": false,
     "solution": false
    }
   },
   "outputs": [
    {
     "name": "stdout",
     "output_type": "stream",
     "text": [
      "Hello, Kuba\n"
     ]
    }
   ],
   "source": [
    "print(\"Hello, Kuba\")"
   ]
  },
  {
   "cell_type": "markdown",
   "metadata": {},
   "source": [
    "After selecting the cell above and pressing SHIFT-ENTER. you should see:\n",
    "\n",
    "    In [1]: print(\"Hello, world\")\n",
    "    Hello, world\n",
    "The line underneath is the **output** of the code you ran. All the code in the cell is run when you press SHIFT-ENTER. \n",
    "\n",
    "---\n",
    "### Editing\n",
    "You can edit a code cell just by clicking on it, and editing the text. Press SHIFT-ENTER to run it again. \n",
    "\n",
    "<div class=\"alert alert-block alert-info\"> \n",
    "2) Edit the code in the cell above to print out a different message, then run it again. </div>"
   ]
  },
  {
   "cell_type": "markdown",
   "metadata": {},
   "source": [
    "---\n",
    "\n",
    "### Text cells\n",
    "The instructions you are reading are also in cells, but these are **text cells**.\n",
    "If you *double*-click on these text cells you can edit them as well. Press SHIFT-ENTER to \"format\" the cell.\n",
    "\n",
    "\n",
    "<div class=\"alert alert-block alert-info\"> \n",
    "    3) Double-click on <i>this</i> cell. It will turn gray and the font will change. Edit this text to say that I love you. Then press SHIFT-ENTER to format it. </div>"
   ]
  },
  {
   "cell_type": "markdown",
   "metadata": {},
   "source": [
    "---\n",
    "\n",
    "### Navigation and editing\n",
    "\n",
    "* Editing *inside* cells works like a normal text form on a web page. \n",
    "\n",
    "\n",
    "<div class=\"alert alert-block alert-info\"> \n",
    "4) Try typing `print(\"Hello CS1P\")` in the box below, then pressing SHIFT-ENTER to run it. </div>"
   ]
  },
  {
   "cell_type": "code",
   "execution_count": 5,
   "metadata": {},
   "outputs": [
    {
     "name": "stdout",
     "output_type": "stream",
     "text": [
      "Hello CS1P\n"
     ]
    }
   ],
   "source": [
    "print(\"Hello CS1P\")"
   ]
  },
  {
   "cell_type": "markdown",
   "metadata": {},
   "source": [
    "### Copy and paste"
   ]
  },
  {
   "cell_type": "code",
   "execution_count": 6,
   "metadata": {},
   "outputs": [
    {
     "ename": "SyntaxError",
     "evalue": "invalid syntax (<ipython-input-6-74f7f933e46d>, line 1)",
     "output_type": "error",
     "traceback": [
      "\u001b[1;36m  File \u001b[1;32m\"<ipython-input-6-74f7f933e46d>\"\u001b[1;36m, line \u001b[1;32m1\u001b[0m\n\u001b[1;33m    Copy me!Copy me!\u001b[0m\n\u001b[1;37m          ^\u001b[0m\n\u001b[1;31mSyntaxError\u001b[0m\u001b[1;31m:\u001b[0m invalid syntax\n"
     ]
    }
   ],
   "source": []
  },
  {
   "cell_type": "markdown",
   "metadata": {},
   "source": [
    "* You can cut, copy and paste entire cells using the toolbar or menu, or use `CTRL-X` (cut), `CTRL-C` (copy) and `CTRL-V` (paste). \n",
    "\n",
    "\n",
    "<div class=\"alert alert-block alert-info\"> 5) Try copying the cell below that says \"Copy me!\" and paste it twice below. </div>"
   ]
  },
  {
   "cell_type": "markdown",
   "metadata": {},
   "source": [
    "<h1> Copy me! </h1>"
   ]
  },
  {
   "cell_type": "markdown",
   "metadata": {},
   "source": [
    "---\n",
    "\n",
    "### Adding new cells\n",
    "* You can insert new cells (e.g. to write code in) by using `Insert/Cell Above` or `Insert/Cell Below` from the menu. Or use the + button on the toolbar. \n",
    "\n",
    "<div class=\"alert alert-block alert-info\"> 6) Insert a cell below, and enter print(\"hello from a new cell\") </div>"
   ]
  },
  {
   "cell_type": "code",
   "execution_count": 7,
   "metadata": {},
   "outputs": [
    {
     "name": "stdout",
     "output_type": "stream",
     "text": [
      "hello from a new cell\n"
     ]
    }
   ],
   "source": [
    "print(\"hello from a new cell\") "
   ]
  },
  {
   "cell_type": "markdown",
   "metadata": {},
   "source": [
    "# Title \n"
   ]
  },
  {
   "cell_type": "markdown",
   "metadata": {},
   "source": [
    "---\n",
    "\n",
    "Sometimes you want to add a text cell, to write notes, for example. To do this, add a cell as before, then go to the `Cell` menu and select `Cell Type/Markdown`. To change the cell type back to code, go to `Cell/Cell Type/Code`.\n",
    "\n",
    "    \n",
    "<div class=\"alert alert-block alert-info\"> 7) Insert a text cell below. Put the text \n",
    "    \n",
    "    # Title \n",
    "    \n",
    "in the cell.  Notice that when you press SHIFT-ENTER the text will become a title line. This is caused by the leading # symbol. </div>"
   ]
  },
  {
   "cell_type": "markdown",
   "metadata": {},
   "source": [
    "---\n",
    "\n",
    "### Saving\n",
    "\n",
    "* Remember to **save** regularly! Press `CTRL-S` to save, or use the menu option `File/Save and Checkpoint`\n",
    "\n",
    "\n",
    "    \n",
    "<div class=\"alert alert-block alert-info\"> 8)  Save now! </div>\n",
    "    \n",
    "\n",
    "**Always make sure you save all work somewhere inside your Documents folder.**\n",
    "\n",
    "### Making copies of notebooks\n",
    "\n",
    "* You can make a copy of your work using `File/Make a Copy` (e.g. if you want to change something but have a \"good\" version to go back to). This can be useful, but don't go overboard creating dozens of versions of a notebook -- it will make it very hard for you to manage things! I'd recommend making a backup copy after completing each question in a lab.\n",
    "\n",
    "\n",
    "\n",
    "<div class=\"alert alert-block alert-info\">  \n",
    "    \n",
    "9) Make a copy of this notebook. You can change the copies name by clicking on the title at the very top of the page (it will be `week_0_lab-Copy1` by default). Call it something else, like `week_0_lab_backup`. Save. </div>\n",
    "    \n",
    "\n",
    "\n",
    "---\n",
    "\n",
    "### Undo\n",
    "\n",
    "* You can undo typing inside cells (`Edit/Undo` or `CTRL-Z`) but be aware that undo works independently inside each cell (i.e. each cell maintains its own undo history).\n",
    "\n",
    "You **can** delete cells in Jupyter using the cut command. Please avoid doing this; the undo functionality can will bring last the cell back, **but** only the very **last** cell. Be careful when using cut!\n",
    "\n",
    "<div class=\"alert alert-block alert-danger\"> <h1> Save often. Make backup copies.  </h1> </div>\n",
    "\n",
    "\n"
   ]
  },
  {
   "cell_type": "markdown",
   "metadata": {},
   "source": [
    "-----\n",
    "### Stopping and restarting\n",
    "You can make Python run for a very long time, for example if you create an infinite loop. No other cells can run while we are waiting.\n",
    "\n",
    "If this happens, you will see an asterisk `In [*]` beside the cell that is running, and at the very top right of the window, you will see a **filled** circle next to `Python 3 ⚫`, instead of a hollow one ⚪. To stop execution, press the stop button ⬛ on the toolbar. \n",
    "\n",
    "<div class=\"alert alert-block alert-info\"> 10) Run the cell below. It will run forever. Look for the asterisk, and then stop the cell.  </div>"
   ]
  },
  {
   "cell_type": "code",
   "execution_count": 8,
   "metadata": {},
   "outputs": [
    {
     "ename": "KeyboardInterrupt",
     "evalue": "",
     "output_type": "error",
     "traceback": [
      "\u001b[1;31m---------------------------------------------------------------------------\u001b[0m",
      "\u001b[1;31mKeyboardInterrupt\u001b[0m                         Traceback (most recent call last)",
      "\u001b[1;32m<ipython-input-8-5da5a06fe336>\u001b[0m in \u001b[0;36m<module>\u001b[1;34m\u001b[0m\n\u001b[0;32m      1\u001b[0m \u001b[1;31m# infinite loop\u001b[0m\u001b[1;33m\u001b[0m\u001b[1;33m\u001b[0m\u001b[1;33m\u001b[0m\u001b[0m\n\u001b[0;32m      2\u001b[0m \u001b[1;32mwhile\u001b[0m \u001b[1;36m1\u001b[0m\u001b[1;33m:\u001b[0m\u001b[1;33m\u001b[0m\u001b[1;33m\u001b[0m\u001b[0m\n\u001b[1;32m----> 3\u001b[1;33m     \u001b[1;32mpass\u001b[0m\u001b[1;33m\u001b[0m\u001b[1;33m\u001b[0m\u001b[0m\n\u001b[0m",
      "\u001b[1;31mKeyboardInterrupt\u001b[0m: "
     ]
    }
   ],
   "source": [
    "# infinite loop\n",
    "while 1:\n",
    "    pass"
   ]
  },
  {
   "cell_type": "markdown",
   "metadata": {},
   "source": [
    "----\n",
    "\n",
    "### Variables\n",
    "When you run a cell, it changes the Python state. For example if you assign a value to a variable, the next cell you run will know about that value. \n",
    "\n",
    "\n",
    "<div class=\"alert alert-block alert-info\">\n",
    "\n",
    "  **11) There are two cells below. Run them both.**\n",
    "  \n",
    "</div>"
   ]
  },
  {
   "cell_type": "code",
   "execution_count": 2,
   "metadata": {},
   "outputs": [],
   "source": [
    "# greeting 1\n",
    "greeting = \"Hello, world\""
   ]
  },
  {
   "cell_type": "code",
   "execution_count": 3,
   "metadata": {},
   "outputs": [
    {
     "name": "stdout",
     "output_type": "stream",
     "text": [
      "Hello, world\n"
     ]
    }
   ],
   "source": [
    "# print greeting\n",
    "# Python remembers the value of greeting from the last run cell.\n",
    "print(greeting)"
   ]
  },
  {
   "cell_type": "markdown",
   "metadata": {},
   "source": [
    "<div class=\"alert alert-block alert-info\">\n",
    "\n",
    "    \n",
    "12) Now run the cell below (`#greeting 2`), then run the `print(greeting)` cell again. Notice that the output changes. Try running the first greeting cell again.\n",
    "    \n",
    "</div>\n",
    "\n",
    "Python runs each cell when you tell it, and remembers the values you set. The order the cells appear in the notebook isn't important -- it is the order in which you **run** the cells."
   ]
  },
  {
   "cell_type": "code",
   "execution_count": 11,
   "metadata": {},
   "outputs": [],
   "source": [
    "# greeting 2\n",
    "greeting = \"Is this thing on?\""
   ]
  },
  {
   "cell_type": "markdown",
   "metadata": {},
   "source": [
    "Occasionally you might want to reset the Python state back to what it was before any code ran -- to forget any variables you have stored. \n",
    "\n",
    "<div class=\"alert alert-block alert-info\">\n",
    "    \n",
    "12) Press the restart button on the toolbar ⭮, or go to the menu option `Kernel/Restart`. The contents of the notebook will not change. Now try running the `# print greeting` cell above. You will get an error, because Python has forgotten the value. Run the `# greeting 1` cell and then run the `# print greeting' cell. </div>"
   ]
  },
  {
   "cell_type": "markdown",
   "metadata": {},
   "source": [
    "----\n",
    "# 3: A mock lab exercise"
   ]
  },
  {
   "cell_type": "markdown",
   "metadata": {
    "collapsed": true
   },
   "source": [
    "The CS1P lab exercises follow a common format. There will be a problem statement, followed by a cell to enter your solution in, and sometimes a \"testing\" cell you can run to see whether your solution is correct.\n",
    "\n",
    "### A.1 A very simple program\n",
    "In Python, we can assign a value to a variable using `=`. For example\n",
    "\n",
    "    n_albums = 314\n",
    "    avg_tracks_per_album = 9.5\n",
    "\n",
    "<font color=\"green\"> \n",
    "    \n",
    "<div class=\"alert alert-block alert-info\"> Write a code in the cell below which assigns the value 301 to a variable called `avg_track_listens`. Then, run the cell below it.</div>\n",
    "</font>"
   ]
  },
  {
   "cell_type": "code",
   "execution_count": 4,
   "metadata": {},
   "outputs": [],
   "source": [
    "# Solution goes here\n",
    "avg_track_listens = 301"
   ]
  },
  {
   "cell_type": "code",
   "execution_count": 5,
   "metadata": {},
   "outputs": [
    {
     "data": {
      "text/html": [
       "<h3> <!--{id:\"CORRECTMARK\", marks:\"1\"}--> <font color=\"green\"> ✓ [1 marks] </font> </h3>"
      ],
      "text/plain": [
       "<IPython.core.display.HTML object>"
      ]
     },
     "metadata": {},
     "output_type": "display_data"
    }
   ],
   "source": [
    "## Tests\n",
    "from utils.tick import marks\n",
    "\n",
    "with marks(1):\n",
    "    assert(avg_track_listens==301)\n"
   ]
  },
  {
   "cell_type": "markdown",
   "metadata": {},
   "source": [
    "----\n",
    "\n",
    "What happens if the test detects a problem with your solution?\n",
    "\n",
    "<div class=\"alert alert-block alert-info\">\n",
    "    \n",
    "2) Change the `avg_track_listens` cell to set it to 50 and run both the solution and test cell again. You should see an error like:\n",
    "</div>"
   ]
  },
  {
   "cell_type": "markdown",
   "metadata": {},
   "source": [
    "       \n",
    "        Test failed ✘ [0/1] marks\n",
    "\n",
    "        ---------------------------------------------------------------------------\n",
    "        AssertionError                            Traceback (most recent call last)\n",
    "        <ipython-input-6-4d74fdbd51c4> in <module>()\n",
    "              3 \n",
    "              4 with marks(1):\n",
    "        ----> 5     assert(avg_track_listens==301)\n",
    "\n",
    "        AssertionError: \n",
    "\n",
    "\n",
    "        \n",
    "There is a lot of junk, but the important part is the `---->` arrow. It tells you where the test failed. From this, you can tell what went wrong (in this case, `avg_track_listens` wasn't 301)."
   ]
  },
  {
   "cell_type": "markdown",
   "metadata": {},
   "source": [
    "# A.2 🔧 Debug and fix\n",
    "\n",
    "This code doesn't work. Try and work out all the problems with it, and check it can run the test."
   ]
  },
  {
   "cell_type": "code",
   "execution_count": 12,
   "metadata": {},
   "outputs": [],
   "source": [
    "total = 1\n",
    "for i in range(9):\n",
    "    total = total + 1 \n"
   ]
  },
  {
   "cell_type": "code",
   "execution_count": 13,
   "metadata": {},
   "outputs": [
    {
     "data": {
      "text/html": [
       "<h3> <!--{id:\"CORRECTMARK\", marks:\"1\"}--> <font color=\"green\"> ✓ [1 marks] </font> </h3>"
      ],
      "text/plain": [
       "<IPython.core.display.HTML object>"
      ]
     },
     "metadata": {},
     "output_type": "display_data"
    }
   ],
   "source": [
    "with marks(1):\n",
    "    assert(total==10)\n",
    "    "
   ]
  },
  {
   "cell_type": "markdown",
   "metadata": {},
   "source": [
    "# E: Autocompleting and getting help\n",
    "\n",
    "If you start typing part of a Python name, then press `TAB`, a list of autocompletions will appear. For example, type `g` in the code cell below and then press `TAB`. You should see `greeting` appear in the list. Use the arrow keys to move down to `greeting` and then press `Enter` to complete the name (or just click on it).\n",
    "\n",
    "If you type `gree` and press TAB it will complete without giving you a list, because there is only one completion beginning `gree` currently known to Python."
   ]
  },
  {
   "cell_type": "code",
   "execution_count": null,
   "metadata": {},
   "outputs": [],
   "source": [
    "greeting"
   ]
  },
  {
   "cell_type": "markdown",
   "metadata": {},
   "source": [
    "But if you type `di` below, then press `TAB` you will get a list of possible completions. Click on an option, or use the `UP` and `DOWN` arrows and press `ENTER` to complete. `ESC` will dismiss the completions."
   ]
  },
  {
   "cell_type": "code",
   "execution_count": null,
   "metadata": {},
   "outputs": [],
   "source": [
    "di"
   ]
  },
  {
   "cell_type": "markdown",
   "metadata": {},
   "source": [
    "### Built-in help\n",
    "Trying pressing `ESC-H` (the `ESC` key, then `h`). This will bring up a complete list of keyboard shortcuts for the Jupyter notebook. You won't need most of them, but it can be a handy reference. Press `Escape` again to close it.\n",
    "\n",
    "#### Python help\n",
    "You can  get help on Python commands and functions directly in the notebook. If you click *just between* the `dict` and the `(` in the line below, and then press `SHIFT-TAB`, a little popup will appear with a brief description (see below)\n",
    "<img src=\"imgs/help.png\">\n",
    "\n",
    "If you click the small `^` symbol at the top right of this popup, then a more complete description will be displayed at the bottom of the page. You can close this help window with the `X` at the top right.\n",
    "\n",
    "The help won't make much sense to you now, but access to the help functionality will be helpful later on."
   ]
  },
  {
   "cell_type": "code",
   "execution_count": null,
   "metadata": {},
   "outputs": [],
   "source": [
    "my_dictionary = dict(\"a\"=\"Abalone\", \"b\"=\"Beetlejuice\", \"c\"=\"Confusion\")"
   ]
  },
  {
   "cell_type": "markdown",
   "metadata": {},
   "source": [
    "# Optional: Jupyter on your own machine\n",
    "If you want to install the software for these labs on your own machine (e.g. your laptop), we recommend the [Anaconda Python installer](https://www.continuum.io/downloads). **Make sure you download the 3.7 version.**\n",
    "\n",
    "This will work on Windows, OS X and Linux."
   ]
  }
 ],
 "metadata": {
  "kernelspec": {
   "display_name": "Python 3",
   "language": "python",
   "name": "python3"
  },
  "language_info": {
   "codemirror_mode": {
    "name": "ipython",
    "version": 3
   },
   "file_extension": ".py",
   "mimetype": "text/x-python",
   "name": "python",
   "nbconvert_exporter": "python",
   "pygments_lexer": "ipython3",
   "version": "3.7.3"
  },
  "varInspector": {
   "cols": {
    "lenName": 16,
    "lenType": 16,
    "lenVar": 40
   },
   "kernels_config": {
    "python": {
     "delete_cmd_postfix": "",
     "delete_cmd_prefix": "del ",
     "library": "var_list.py",
     "varRefreshCmd": "print(var_dic_list())"
    },
    "r": {
     "delete_cmd_postfix": ") ",
     "delete_cmd_prefix": "rm(",
     "library": "var_list.r",
     "varRefreshCmd": "cat(var_dic_list()) "
    }
   },
   "types_to_exclude": [
    "module",
    "function",
    "builtin_function_or_method",
    "instance",
    "_Feature"
   ],
   "window_display": false
  }
 },
 "nbformat": 4,
 "nbformat_minor": 1
}
