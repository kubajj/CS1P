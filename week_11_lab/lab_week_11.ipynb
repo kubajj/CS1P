{
 "cells": [
  {
   "cell_type": "code",
   "execution_count": 22,
   "metadata": {},
   "outputs": [
    {
     "data": {
      "text/plain": [
       "{'the': 2, 'first': 1, 'test': 1, 'of': 1, 'function': 1}"
      ]
     },
     "execution_count": 22,
     "metadata": {},
     "output_type": "execute_result"
    }
   ],
   "source": [
    "def wordFreq(s):\n",
    "    frequencies = {}\n",
    "    new_s = s\n",
    "    for ch in s:\n",
    "        if ch == \" \":\n",
    "            continue\n",
    "        if not ch.isalpha():\n",
    "            new_s = new_s.replace(ch, \"\")\n",
    "    words = new_s.lower().split(\" \")\n",
    "    for word in words:\n",
    "        if word in frequencies:\n",
    "            frequencies[word] += 1\n",
    "        else:\n",
    "            frequencies[word] = 1\n",
    "    return frequencies\n",
    "\n",
    "wordFreq(\"Boooomm this sukcsSFSGFD SFGDs\")\n",
    "wordFreq(\"The first test of the function.\")"
   ]
  },
  {
   "cell_type": "code",
   "execution_count": 26,
   "metadata": {},
   "outputs": [
    {
     "data": {
      "text/plain": [
       "[1, 2, 3, 4, 5, 6, 7, 8, 9]"
      ]
     },
     "execution_count": 26,
     "metadata": {},
     "output_type": "execute_result"
    }
   ],
   "source": [
    "def swapsort(l):\n",
    "    swapped = True\n",
    "    i = 0\n",
    "    mod = 0\n",
    "    while swapped:\n",
    "        swapped = False\n",
    "        for i in range(mod,len(l)-1):\n",
    "            if l[i] > l[i+1]:\n",
    "                l[i],l[i+1] = l[i+1],l[i]\n",
    "                swapped = True\n",
    "        mod = 0 if mod == 1 else 1\n",
    "    return l\n",
    "\n",
    "swapsort([2, 6, 8, 1, 7, 9, 4, 3, 5])\n",
    "            "
   ]
  },
  {
   "cell_type": "code",
   "execution_count": 12,
   "metadata": {},
   "outputs": [
    {
     "name": "stdout",
     "output_type": "stream",
     "text": [
      "[1, 17, 20, 26, 31, 44, 54, 55, 77, 93]\n"
     ]
    }
   ],
   "source": [
    "def modifiedSelectionSort(l):\n",
    "    for i in range(len(l)//2+1):\n",
    "        minimum = i\n",
    "        maximum = i\n",
    "        for j in range(i+1,len(l)-i):\n",
    "            if l[minimum] > l[j]:\n",
    "                minimum = j\n",
    "            if l[maximum] < l[j]:\n",
    "                maximum = j\n",
    "        l[i],l[minimum]=l[minimum],l[i]\n",
    "        l[-1-i],l[maximum]=l[maximum],l[-1-i]\n",
    "    return l \n",
    "\n",
    "l = [54,26,93,17,77,31,44,55,20,1]\n",
    "modifiedSelectionSort(l)\n",
    "print(l)"
   ]
  }
 ],
 "metadata": {
  "kernelspec": {
   "display_name": "Python 3",
   "language": "python",
   "name": "python3"
  },
  "language_info": {
   "codemirror_mode": {
    "name": "ipython",
    "version": 3
   },
   "file_extension": ".py",
   "mimetype": "text/x-python",
   "name": "python",
   "nbconvert_exporter": "python",
   "pygments_lexer": "ipython3",
   "version": "3.8.1"
  }
 },
 "nbformat": 4,
 "nbformat_minor": 2
}
