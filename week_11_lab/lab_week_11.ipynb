{
 "cells": [
  {
   "cell_type": "markdown",
   "metadata": {},
   "source": [
    "# Week Lab 11\n",
    "### Task 1 - Word frequencies\n",
    "Define a function which is given a string and returns a dictionary with words (strings) as keys and numbers as values, showing how many times each word occurs in the original string. For example, when given the string:\n",
    "```\n",
    "\"The first test of the function.\"\n",
    "```\n",
    "the function wordFreq() should return\n",
    "```\n",
    "{ \"the\":2, \"first\":1, \"test\":1, \"of\":1, \"function\":1 }\n",
    "```\n",
    "although of course the items might be in a different order. The function should ignore non-letters, and convert everything to lower case.\n",
    "Test the function.\n",
    "The function split from the string module will be very useful for this exercise. It separates a string into blocks, using a given string to indicate where the blocks begin and end. For example,\n",
    "```\n",
    "\"The first test of the function.\".split(\" \")\n",
    "```\n",
    "(argument is a space) returns\n",
    "```\n",
    "[ \"The\", \"first\", \"test\", \"of\", \"the\", \"function.\" ]\n",
    "```\n",
    "Think about how you are going to do this exercise, especially how you are going to convert from the original string into a list of individual words, in lower case, with all the non-letters removed. You might find it useful to develop some small functions to carry out the individual steps of this process."
   ]
  },
  {
   "cell_type": "code",
   "execution_count": 22,
   "metadata": {},
   "outputs": [
    {
     "data": {
      "text/plain": [
       "{'the': 2, 'first': 1, 'test': 1, 'of': 1, 'function': 1}"
      ]
     },
     "execution_count": 22,
     "metadata": {},
     "output_type": "execute_result"
    }
   ],
   "source": [
    "def wordFreq(s):\n",
    "    frequencies = {}\n",
    "    new_s = s\n",
    "    for ch in s:\n",
    "        if ch == \" \":\n",
    "            continue\n",
    "        if not ch.isalpha():\n",
    "            new_s = new_s.replace(ch, \"\")\n",
    "    words = new_s.lower().split(\" \")\n",
    "    for word in words:\n",
    "        if word in frequencies:\n",
    "            frequencies[word] += 1\n",
    "        else:\n",
    "            frequencies[word] = 1\n",
    "    return frequencies\n",
    "\n",
    "print(wordFreq(\"The first test of the function.\"))"
   ]
  },
  {
   "cell_type": "markdown",
   "metadata": {},
   "source": [
    "### Task 2 – Swap sort\n",
    "*SwapSort* is a bit similar to *BubbleSort*. In *SwapSort*, during the first pass the first and second elements are compared (and swapped if necessary), but then the third and fourth elements are compared, and so on until the end of the list is reached. During the second pass, the first element is skipped and the second and third elements are compared, then the fourth and fifth, and so on. Write a function that implements the swapSort algorithm for sorting a list of integers."
   ]
  },
  {
   "cell_type": "code",
   "execution_count": 26,
   "metadata": {},
   "outputs": [
    {
     "data": {
      "text/plain": [
       "[1, 2, 3, 4, 5, 6, 7, 8, 9]"
      ]
     },
     "execution_count": 26,
     "metadata": {},
     "output_type": "execute_result"
    }
   ],
   "source": [
    "def swapsort(l):\n",
    "    swapped = True\n",
    "    i = 0\n",
    "    mod = 0\n",
    "    while swapped:\n",
    "        swapped = False\n",
    "        for i in range(mod,len(l)-1):\n",
    "            if l[i] > l[i+1]:\n",
    "                l[i],l[i+1] = l[i+1],l[i]\n",
    "                swapped = True\n",
    "        mod = 0 if mod == 1 else 1\n",
    "    return l\n",
    "\n",
    "swapsort([2, 6, 8, 1, 7, 9, 4, 3, 5])\n",
    "            "
   ]
  },
  {
   "cell_type": "markdown",
   "metadata": {},
   "source": [
    "### Task 3 - Modified Selection sort\n",
    "In the lecture you were introduced to the Selection Sort algorithm. For this problem, you need\n",
    "to implement a modified version of the Selection Sort algorithm where:\n",
    " \n",
    "    • Instead of finding the smallest element in the list and swapping it with an element at the beginning of the list,\n",
    "    • you need to find both the smallest and the largest elements and swap them with elements at the beginning and end of the list respectively.\n",
    "\n",
    "a) You are required to select the and largest numbers in one pass. In other words, your\n",
    "implementation should only include a single loop for finding both the smallest and largest\n",
    "numbers.\n",
    "\n",
    "**Hint**: There are some special cases that you need to figure out and handle in your\n",
    "implementation. Make sure that your solution works for these lists:\n",
    "```\n",
    "[6, 4, 5] and [2, 6, 8, 1, 7, 9, 4, 3, 5]\n",
    "```\n",
    "b) What is the invariant of this sorting algorithm?"
   ]
  },
  {
   "cell_type": "code",
   "execution_count": 143,
   "metadata": {
    "scrolled": true
   },
   "outputs": [
    {
     "name": "stdout",
     "output_type": "stream",
     "text": [
      "[1, 17, 20, 26, 31, 44, 54, 55, 77, 93]\n",
      "[4, 5, 6]\n",
      "[1, 2, 3, 4, 5, 6, 7, 8, 9]\n"
     ]
    }
   ],
   "source": [
    "def modifiedSelectionSort(l):\n",
    "    for i in range(len(l)//2):\n",
    "        minimum = i\n",
    "        maximum = i\n",
    "        for j in range(i+1,len(l)-i):\n",
    "            if l[minimum] > l[j]:\n",
    "                minimum = j\n",
    "            if l[maximum] < l[j]:\n",
    "                maximum = j\n",
    "        if (minimum == len(l)-i-1 and maximum == i):\n",
    "            l[minimum],l[maximum]=l[maximum],l[minimum]            \n",
    "        elif (maximum == i):\n",
    "            l[-1-i],l[maximum]=l[maximum],l[-1-i]\n",
    "            if (not (maximum == minimum - 1)) or len(l)%2 == 1:\n",
    "                l[i],l[minimum]=l[minimum],l[i]           \n",
    "        else:\n",
    "            l[i],l[minimum]=l[minimum],l[i]\n",
    "            l[-1-i],l[maximum]=l[maximum],l[-1-i]\n",
    "    return l\n",
    "\n",
    "l1 = [54,26,93,17,77,31,44,55,20,1]\n",
    "print(modifiedSelectionSort(l1))\n",
    "l2 = [6,4,5]\n",
    "print(modifiedSelectionSort(l2))\n",
    "l3=[2, 6, 8, 1, 7, 9, 4, 3, 5]\n",
    "print(modifiedSelectionSort(l3))\n",
    "\n"
   ]
  }
 ],
 "metadata": {
  "kernelspec": {
   "display_name": "Python 3",
   "language": "python",
   "name": "python3"
  },
  "language_info": {
   "codemirror_mode": {
    "name": "ipython",
    "version": 3
   },
   "file_extension": ".py",
   "mimetype": "text/x-python",
   "name": "python",
   "nbconvert_exporter": "python",
   "pygments_lexer": "ipython3",
   "version": "3.7.3"
  }
 },
 "nbformat": 4,
 "nbformat_minor": 2
}
