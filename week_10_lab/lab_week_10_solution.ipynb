{
 "cells": [
  {
   "cell_type": "markdown",
   "metadata": {},
   "source": [
    "# List manipulations\n",
    "### 1. flatten(a): \n",
    "Write a function that flattens a list (optional: show multiple implementations) – Hint: this is a recursive function!\n",
    "```\n",
    "Input: [[[1, 2, 3], [4, 5, 6], [7], [8, 9], 10]]\n",
    "Output: [1, 2, 3, 4, 5, 6, 7, 8, 9, 10]\n",
    "```"
   ]
  },
  {
   "cell_type": "code",
   "execution_count": 1,
   "metadata": {},
   "outputs": [
    {
     "name": "stdout",
     "output_type": "stream",
     "text": [
      "[1, 2, 3, 4, 5, 6, 7, 8, 9, 10]\n"
     ]
    }
   ],
   "source": [
    "def flatten(a):\n",
    "    if not type(a) == type([]):\n",
    "        return [a]\n",
    "    if len(a) == 0:\n",
    "        return []\n",
    "    if type(a[0]) == type([]): \n",
    "        return flatten(a[0])+flatten(a[1:])\n",
    "    else:\n",
    "        return a[:1]+flatten(a[1:])\n",
    "    \n",
    "\n",
    "a = [[[1,2,3],[4,5,6],[7],[8,9],10]]\n",
    "print(flatten(a))"
   ]
  },
  {
   "cell_type": "markdown",
   "metadata": {},
   "source": [
    "### 2. identical(a, b):\n",
    "Write a python program to check whether two lists are circularly identical (a circular list is a list where we consider the first element as next of last element, forming a “circle”).\n",
    "```\n",
    "identical([10, 10, 0, 10], [10, 10, 10, 0]) -> True\n",
    "identical([10, 10, 5, 10], [10, 10, 10, 0]) -> False\n",
    "```"
   ]
  },
  {
   "cell_type": "code",
   "execution_count": 36,
   "metadata": {},
   "outputs": [
    {
     "name": "stdout",
     "output_type": "stream",
     "text": [
      "True\n",
      "False\n",
      "True\n"
     ]
    }
   ],
   "source": [
    "def identical(a, b):\n",
    "    b_longer = b*2\n",
    "    a_string = \",\".join([str(x) for x in a])\n",
    "    b_longer_string = \",\".join([str(x) for x in b_longer])\n",
    "    \n",
    "    #print(\"a_string is:\",a_string,\"\\nb_longer_string is:\",b_longer_string) # just for testing\n",
    "    \n",
    "    if a_string in b_longer_string:\n",
    "        return True  \n",
    "    return False\n",
    "\n",
    "    ''' # too long\n",
    "    for i,elt in enumerate(b):\n",
    "        if a[0] == elt:\n",
    "            was = True\n",
    "            for j, a_elt in enumerate(a[1:]):\n",
    "                if not a_elt == longer[i+j+1]:\n",
    "                    was = False\n",
    "                    break\n",
    "            if was:\n",
    "                return True\n",
    "    return False # the previous return False has to be commented out, so this solution can work\n",
    "    '''\n",
    "                    \n",
    "                    \n",
    "print(identical([10, 10, 0, 10],[10, 10, 10, 0]))\n",
    "print(identical([10, 10, 5, 10],[10, 10, 10, 0]))\n",
    "print(identical([1, 2, 3, 4, 5, 6, 7, 8, 9, 10],[2, 3, 4, 5, 6, 7, 8, 9, 10, 1]))"
   ]
  },
  {
   "cell_type": "markdown",
   "metadata": {},
   "source": [
    "### 3. chunks(list, size):\n",
    "Split list to chunks with this function taking the list and the size for the chunks required.\n",
    "```\n",
    "Input: [1,2,3,5,1,3,4,12,3,5,3,2,3,4,5], 6\n",
    "Output: [1, 2, 3, 5, 1, 3], [4, 12, 3, 5, 3, 2], [3, 4, 5]\n",
    "```"
   ]
  },
  {
   "cell_type": "code",
   "execution_count": 53,
   "metadata": {},
   "outputs": [
    {
     "name": "stdout",
     "output_type": "stream",
     "text": [
      "[1, 2, 3, 5, 1, 3], [4, 12, 3, 5, 3, 2], [3, 4, 5]\n"
     ]
    }
   ],
   "source": [
    "def chunks(l, size):\n",
    "    result = []\n",
    "    for i in range(len(l)//size + 1 if (len(l)%size > 0) else 0):\n",
    "        result.append(l[i*size:(i+1)*size])\n",
    "    return str(result)[1:-1]\n",
    "\n",
    "print(chunks([1,2,3,5,1,3,4,12,3,5,3,2,3,4,5], 6))"
   ]
  },
  {
   "cell_type": "markdown",
   "metadata": {},
   "source": [
    "# Tuple manipulations\n",
    "### 1. sortbyfloat(a):\n",
    "Write a Python function to sort a list by the tuples’ second, float element. Hint: try using lambda functions for key to sorted().\n",
    "```\n",
    "Input: [('item1', 12.20), ('item2', 15.10), ('item3',24.5)]\n",
    "Output: [('item3', 24.5), ('item2', 15.10), ('item1',12.20)]\n",
    "```"
   ]
  },
  {
   "cell_type": "code",
   "execution_count": 33,
   "metadata": {},
   "outputs": [
    {
     "data": {
      "text/plain": [
       "[('item3', 24.5), ('item2', 15.1), ('item1', 12.2)]"
      ]
     },
     "execution_count": 33,
     "metadata": {},
     "output_type": "execute_result"
    }
   ],
   "source": [
    "def sortbyfloat(a):\n",
    "    return sorted(a, key=lambda x: x[1], reverse=True)\n",
    "\n",
    "sortbyfloat([('item1', 12.20), ('item2', 15.10), ('item3',24.5)])"
   ]
  },
  {
   "cell_type": "markdown",
   "metadata": {},
   "source": [
    "### 2. addbyelement(t1, t2):\n",
    "Write a function that adds two tuples by elements. Hint: try using functions such as map(), sum() and zip().\n",
    "```\n",
    "Input: (1,2,3), (1,2,3)\n",
    "Output: (2,4,6)\n",
    "\n",
    "Input: (1,5,1), (1,-4,3)\n",
    "Output: (2,1,4)\n",
    "```"
   ]
  },
  {
   "cell_type": "code",
   "execution_count": 47,
   "metadata": {},
   "outputs": [
    {
     "name": "stdout",
     "output_type": "stream",
     "text": [
      "(2, 4, 6)\n",
      "(2, 1, 4)\n"
     ]
    }
   ],
   "source": [
    "def addbyelement(t1, t2):\n",
    "    return tuple(map(sum, tuple(zip(t1,t2))))\n",
    "\n",
    "print(addbyelement((1,2,3), (1,2,3)))\n",
    "print(addbyelement((1,5,1), (1,-4,3)))"
   ]
  },
  {
   "cell_type": "markdown",
   "metadata": {},
   "source": [
    "# Dictionary manipulations\n",
    "### 1. applyfunondict(a, myfun):\n",
    "Write a function that applies a function on the values of a dictionary (e.g., calculates power of each value). Make sure that your solution works on nested dictionaries. Hint: this is a recursive function.\n",
    "\n",
    "Let’s create this function that we would like to apply on the values of the dictionary:\n",
    "```python \n",
    "def myfun(elem):\n",
    "    return elem**2\n",
    "```\n",
    "```\n",
    "Input: {'apple': 6, 'banana': {'hello': 5, 'world': 4}}\n",
    "Output: {'apple': 36, 'banana': {'hello': 25, 'world':16}}\n",
    "```"
   ]
  },
  {
   "cell_type": "code",
   "execution_count": 50,
   "metadata": {},
   "outputs": [
    {
     "data": {
      "text/plain": [
       "{'apple': 36, 'banana': {'hello': 25, 'world': 16}}"
      ]
     },
     "execution_count": 50,
     "metadata": {},
     "output_type": "execute_result"
    }
   ],
   "source": [
    "def myfun(elem):\n",
    "    return elem**2\n",
    "\n",
    "def applyfunondict(a, myfun):\n",
    "    if not type(a) == type({}):\n",
    "        print(a,\"is not a dictionary.\")\n",
    "    new_a = {}\n",
    "    for key,value in a.items():\n",
    "        if type(value) == type({}):\n",
    "            new_a[key] = applyfunondict(value, myfun)\n",
    "        else:\n",
    "            new_a[key] = myfun(value)\n",
    "    return new_a\n",
    "\n",
    "applyfunondict({'apple': 6, 'banana': {'hello': 5, 'world': 4}},myfun)"
   ]
  },
  {
   "cell_type": "markdown",
   "metadata": {},
   "source": [
    "### 2. comparedicts(dict1, dict2): \n",
    "Write a function that compares two dictionaries by both their keys and values and return a boolean without using cmp() or ==).\n",
    "\n",
    "```\n",
    "Input: {'a': 1, 'b': 2}, {'a': 1, 'b': 2}\n",
    "Output: True\n",
    "Input: {'a': 1, 'b': 3}, {'a': 1, 'b': 2}\n",
    "Output: False\n",
    "```"
   ]
  },
  {
   "cell_type": "code",
   "execution_count": 5,
   "metadata": {},
   "outputs": [
    {
     "name": "stdout",
     "output_type": "stream",
     "text": [
      "True\n",
      "False\n",
      "True\n",
      "False\n"
     ]
    }
   ],
   "source": [
    "def comparedicts(dict1, dict2):\n",
    "    res = True\n",
    "    for key,value in dict1.items():\n",
    "        #if not key in dict2:\n",
    "            #res = False\n",
    "            #break\n",
    "        #if not value is dict2[key]: # does not work for lists\n",
    "            #res = False\n",
    "            #break\n",
    "        if not (key,value) in dict2.items():\n",
    "            res = False\n",
    "    for key,value in dict2.items():\n",
    "        if not (key,value) in dict1.items():\n",
    "            res = False       \n",
    "    \n",
    "    return res\n",
    "\n",
    "print(comparedicts({'a': 1, 'b': 2}, {'a': 1, 'b': 2}))\n",
    "print(comparedicts({'a': 1, 'b': 3}, {'a': 1, 'b': 2}))\n",
    "print(comparedicts({'a': 1, 'b': [1,2]}, {'a': 1, 'b': [1,2]}))\n",
    "print(comparedicts({'a': 1, 'b': 2, 'c': 3}, {'a': 1, 'b': 2}))"
   ]
  },
  {
   "cell_type": "markdown",
   "metadata": {},
   "source": [
    "# Organising a concert\n",
    "Suppose you are putting together a concert and need to figure out how much to charge for a ticket. Your total expenses are £8000 (band and venue). The venue can seat at most 2000 people and you have determined through market research that the number of tickets you are likely to sell is related to the ticket’s selling price by the following\n",
    "relationship:\n",
    "```\n",
    "sales = 2500 – 80 * price\n",
    "```\n",
    "According to this relationship, if you give away tickets for free, you will overfill the venue. On the other hand, if you charge too much, you won’t be able to sell tickets at all. Your total income from the ticket sales will be sales * price and your profit will be this amount minus your expenses which are £8000.\n",
    "\n",
    "Write a program to determine the most profitable ticket price, by creating a function\n",
    "that prints a table for each possible ticket price from £0 up to the maxPrice parameter\n",
    "that is given to this function as an argument. Name your function as\n",
    "profitTable(maxPrice)\n",
    "\n",
    "When calling profitTable(30), we should get a result like below:\n",
    "```\n",
    "Price   Income   Profit\n",
    "-----   ------   ------\n",
    "£ 1      2000    -6000 \n",
    "£ 2      4000    -4000 \n",
    "         ...\n",
    "£ 22    16280     8280 \n",
    "£ 23    15180     7180\n",
    "```\n",
    "Our program so far has only considered whole pound tickets. Now modify the program\n",
    "to increment the prices with 50 cents in each iteration instead. Does our new function\n",
    "find a better ticket price?\n",
    "Just by looking at these tables, it is hard to see the relationship and trends between the\n",
    "different parameters. Therefore, let’s use matplotlib to plot the results. For this,\n",
    "you will have to create a function (call it profitList()) that returns the data for\n",
    "our plot (this will be two lists – one with prices and one with profits – think about how\n",
    "to return two lists from one function). Once you have this function, you can use\n",
    "matplotlib to plot a simple line plot, as shown here."
   ]
  },
  {
   "cell_type": "code",
   "execution_count": 15,
   "metadata": {},
   "outputs": [
    {
     "name": "stdout",
     "output_type": "stream",
     "text": [
      "Price\tIncome\tProfit\n",
      "-----\t------\t------\n",
      "£ 0\t0\t-8000\n",
      "£ 1\t2420\t-5580\n",
      "£ 2\t4680\t-3320\n",
      "£ 3\t6780\t-1220\n",
      "£ 4\t8720\t720\n",
      "£ 5\t10500\t2500\n",
      "£ 6\t12120\t4120\n",
      "£ 7\t13580\t5580\n",
      "£ 8\t14880\t6880\n",
      "£ 9\t16020\t8020\n",
      "£ 10\t17000\t9000\n",
      "£ 11\t17820\t9820\n",
      "£ 12\t18480\t10480\n",
      "£ 13\t18980\t10980\n",
      "£ 14\t19320\t11320\n",
      "£ 15\t19500\t11500\n",
      "£ 16\t19520\t11520\n",
      "£ 17\t19380\t11380\n",
      "£ 18\t19080\t11080\n",
      "£ 19\t18620\t10620\n",
      "£ 20\t18000\t10000\n",
      "£ 21\t17220\t9220\n",
      "£ 22\t16280\t8280\n",
      "£ 23\t15180\t7180\n"
     ]
    },
    {
     "data": {
      "text/plain": [
       "11520"
      ]
     },
     "execution_count": 15,
     "metadata": {},
     "output_type": "execute_result"
    }
   ],
   "source": [
    "def sales(price):\n",
    "    coef = 80 * price\n",
    "    if coef >= 2500:\n",
    "        return 0\n",
    "    return 2500 - coef\n",
    "\n",
    "def profitTable(maxPrice):\n",
    "    expenses = 8000\n",
    "    max_profit = 0\n",
    "    print(\"\\t\".join([\"Price\",\"Income\",\"Profit\"]))  \n",
    "    print(\"\\t\".join([\"-----\",\"------\",\"------\"]))\n",
    "    for price in range(maxPrice + 1):\n",
    "        income = sales(price) * price\n",
    "        profit = income - expenses\n",
    "        if profit > max_profit:\n",
    "            max_profit = profit\n",
    "        print(\"\\t\".join([\"£ \" + str(price), str(income), str(profit)]))\n",
    "    return max_profit\n",
    "\n",
    "profitTable(23)"
   ]
  },
  {
   "cell_type": "markdown",
   "metadata": {},
   "source": [
    "Our program so far has only considered whole pound tickets. Now modify the program to increment the prices with 50 cents in each iteration instead. Does our new function find a better ticket price?"
   ]
  },
  {
   "cell_type": "code",
   "execution_count": 13,
   "metadata": {},
   "outputs": [
    {
     "name": "stdout",
     "output_type": "stream",
     "text": [
      "Price\tIncome\tProfit\n",
      "-----\t------\t------\n",
      "£ 0.0\t0.0\t-8000.0\n",
      "£ 0.5\t1230.0\t-6770.0\n",
      "£ 1.0\t2420.0\t-5580.0\n",
      "£ 1.5\t3570.0\t-4430.0\n",
      "£ 2.0\t4680.0\t-3320.0\n",
      "£ 2.5\t5750.0\t-2250.0\n",
      "£ 3.0\t6780.0\t-1220.0\n",
      "£ 3.5\t7770.0\t-230.0\n",
      "£ 4.0\t8720.0\t720.0\n",
      "£ 4.5\t9630.0\t1630.0\n",
      "£ 5.0\t10500.0\t2500.0\n",
      "£ 5.5\t11330.0\t3330.0\n",
      "£ 6.0\t12120.0\t4120.0\n",
      "£ 6.5\t12870.0\t4870.0\n",
      "£ 7.0\t13580.0\t5580.0\n",
      "£ 7.5\t14250.0\t6250.0\n",
      "£ 8.0\t14880.0\t6880.0\n",
      "£ 8.5\t15470.0\t7470.0\n",
      "£ 9.0\t16020.0\t8020.0\n",
      "£ 9.5\t16530.0\t8530.0\n",
      "£ 10.0\t17000.0\t9000.0\n",
      "£ 10.5\t17430.0\t9430.0\n",
      "£ 11.0\t17820.0\t9820.0\n",
      "£ 11.5\t18170.0\t10170.0\n",
      "£ 12.0\t18480.0\t10480.0\n",
      "£ 12.5\t18750.0\t10750.0\n",
      "£ 13.0\t18980.0\t10980.0\n",
      "£ 13.5\t19170.0\t11170.0\n",
      "£ 14.0\t19320.0\t11320.0\n",
      "£ 14.5\t19430.0\t11430.0\n",
      "£ 15.0\t19500.0\t11500.0\n",
      "£ 15.5\t19530.0\t11530.0\n",
      "£ 16.0\t19520.0\t11520.0\n",
      "£ 16.5\t19470.0\t11470.0\n",
      "£ 17.0\t19380.0\t11380.0\n",
      "£ 17.5\t19250.0\t11250.0\n",
      "£ 18.0\t19080.0\t11080.0\n",
      "£ 18.5\t18870.0\t10870.0\n",
      "£ 19.0\t18620.0\t10620.0\n",
      "£ 19.5\t18330.0\t10330.0\n",
      "£ 20.0\t18000.0\t10000.0\n",
      "£ 20.5\t17630.0\t9630.0\n",
      "£ 21.0\t17220.0\t9220.0\n",
      "£ 21.5\t16770.0\t8770.0\n",
      "£ 22.0\t16280.0\t8280.0\n",
      "£ 22.5\t15750.0\t7750.0\n",
      "£ 23.0\t15180.0\t7180.0\n"
     ]
    },
    {
     "data": {
      "text/plain": [
       "11530.0"
      ]
     },
     "execution_count": 13,
     "metadata": {},
     "output_type": "execute_result"
    }
   ],
   "source": [
    "def profitTable(maxPrice):\n",
    "    expenses = 8000\n",
    "    print(\"\\t\".join([\"Price\",\"Income\",\"Profit\"]))  \n",
    "    print(\"\\t\".join([\"-----\",\"------\",\"------\"]))\n",
    "    max_profit = 0\n",
    "    for p in range(maxPrice * 2 + 1):\n",
    "        price = p / 2\n",
    "        income = sales(price) * price\n",
    "        profit = income - expenses\n",
    "        if profit > max_profit:\n",
    "            max_profit = profit\n",
    "        print(\"\\t\".join([\"£ \" + str(price), str(income), str(profit)]))\n",
    "    return max_profit\n",
    "\n",
    "profitTable(23)"
   ]
  },
  {
   "cell_type": "markdown",
   "metadata": {},
   "source": [
    "Answer to the previous question:\n",
    "Yes, it did."
   ]
  },
  {
   "cell_type": "markdown",
   "metadata": {},
   "source": [
    "Just by looking at these tables, it is hard to see the relationship and trends between the different parameters. Therefore, let’s use `matplotlib` to plot the results. For this, you will have to create a function (call it `profitList()`) that returns the data for our plot (this will be two lists – one with prices and one with profits – think about how to return two lists from one function). Once you have this function, you can use matplotlib to plot a simple line plot, [as shown here](https://matplotlib.org/tutorials/introductory/pyplot.html)."
   ]
  },
  {
   "cell_type": "code",
   "execution_count": 16,
   "metadata": {},
   "outputs": [
    {
     "data": {
      "image/png": "[encoded data removed]",
      "text/plain": [
       "<Figure size 432x288 with 1 Axes>"
      ]
     },
     "metadata": {
      "needs_background": "light"
     },
     "output_type": "display_data"
    }
   ],
   "source": [
    "import matplotlib.pyplot as plt\n",
    "\n",
    "def profitList(maxPrice = 50):\n",
    "    expenses = 8000\n",
    "    prices = [x/2 for x in range(maxPrice * 2 + 1)]\n",
    "    profits = []\n",
    "    for p in range(maxPrice * 2 + 1):\n",
    "        price = p / 2\n",
    "        income = sales(price) * price\n",
    "        profit = income - expenses\n",
    "        profits.append(profit)\n",
    "    return prices, profits\n",
    "\n",
    "prices, profits = profitList()\n",
    "plt.plot(prices, profits)\n",
    "plt.xlabel('Price [£]')\n",
    "plt.ylabel('Profit')\n",
    "plt.show()"
   ]
  },
  {
   "cell_type": "code",
   "execution_count": null,
   "metadata": {},
   "outputs": [],
   "source": []
  }
 ],
 "metadata": {
  "kernelspec": {
   "display_name": "Python 3",
   "language": "python",
   "name": "python3"
  },
  "language_info": {
   "codemirror_mode": {
    "name": "ipython",
    "version": 3
   },
   "file_extension": ".py",
   "mimetype": "text/x-python",
   "name": "python",
   "nbconvert_exporter": "python",
   "pygments_lexer": "ipython3",
   "version": "3.7.3"
  }
 },
 "nbformat": 4,
 "nbformat_minor": 2
}
