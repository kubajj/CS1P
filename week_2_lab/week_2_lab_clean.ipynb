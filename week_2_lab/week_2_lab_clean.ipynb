{
 "cells": [
  {
   "cell_type": "markdown",
   "metadata": {},
   "source": [
    "# Week 2 : Lab \n",
    " ## Control: Operators, conditionals and iteration\n",
    " ##### CS1P - University of Glasgow - John H. Williamson - 2018/2019 Python 3.x"
   ]
  },
  {
   "cell_type": "markdown",
   "metadata": {},
   "source": []
  },
  {
   "cell_type": "markdown",
   "metadata": {},
   "source": [
    "\n",
    "## Lab exercise\n",
    "\n",
    "**You must show a reasonable attempt at this exercise to gain a tick for this work**.\n",
    "\n",
    "<font color=\"red\"> Remember to save your work frequently! </font>\n",
    "\n",
    "**There is a feedback form at the end of the B part. Please fill it out after you have finished work in this lab.**\n"
   ]
  },
  {
   "cell_type": "markdown",
   "metadata": {},
   "source": [
    "## Before the lab\n",
    "* Make sure you have read and understood the lecture notes.\n",
    "* Complete at least the A exercises. If you don't have a machine to use, write out the solution on paper. "
   ]
  },
  {
   "cell_type": "markdown",
   "metadata": {},
   "source": [
    "\n",
    "## During the lab session\n",
    "* Discuss any problems you've had with your tutor.\n",
    "* Complete the B exercises.\n",
    "* Make sure you understand how `if`, `else` and `elif` are used.\n",
    "* Make sure you understand how `for` and `while` differ and where they are used.\n",
    "* Make sure you understand how loops can be nested one within another.\n"
   ]
  },
  {
   "cell_type": "code",
   "execution_count": 1,
   "metadata": {},
   "outputs": [],
   "source": [
    "# RUN THIS FIRST!\n",
    "from utils.tick import tick, check_answer\n",
    "import IPython"
   ]
  },
  {
   "cell_type": "markdown",
   "metadata": {},
   "source": [
    "## `def` and functions\n",
    "We will use simple *functions* briefly in this lab. This lets us write a bit of code and call it many times with different inputs.\n",
    "\n",
    "Functions are defined using `def function_name(parameters):` and called using `function_name(arguments)`. There may be several or no `parameters`.\n",
    "\n",
    "A function may `return` a value, which will be used as if the returned value had replaced the whole function call.\n",
    "\n",
    "For example:"
   ]
  },
  {
   "cell_type": "code",
   "execution_count": 2,
   "metadata": {},
   "outputs": [],
   "source": [
    "def say_hi(): # no parameters\n",
    "    print(\"Hiya!\") # this must be indented correctly, just like if\n",
    "    \n",
    "say_hi()   # call the function\n",
    "say_hi()   # call the function again"
   ]
  },
  {
   "cell_type": "code",
   "execution_count": 3,
   "metadata": {},
   "outputs": [],
   "source": [
    "def square(n):  # one parameter, n, which becomes a variable in the code inside the function\n",
    "    return n ** 2 # return \"sends a value back\" \n",
    "\n",
    "print(square(20)) # call the function, setting n=20, print the return value\n",
    "print(square(8)) # call with a different setting of n"
   ]
  },
  {
   "cell_type": "code",
   "execution_count": 4,
   "metadata": {},
   "outputs": [],
   "source": [
    "def join(a, b): # two parameters, a and b\n",
    "    return a + \"-\" + b\n",
    "\n",
    "# call the function setting a=\"left\" and b=\"right\"\n",
    "join(\"left\", \"right\")"
   ]
  },
  {
   "cell_type": "markdown",
   "metadata": {},
   "source": []
  },
  {
   "cell_type": "markdown",
   "metadata": {},
   "source": [
    "# A Quick problems\n",
    "These should take around 10 minutes each.\n",
    "\n",
    "## A.1 Colour temperature\n",
    "As objects get hotter, they start to glow, and change color. This is why iron glows <font color=\"red\"> red</font> when it is forged.\n",
    "<img src=\"imgs/hot_iron.jpg\" width=\"500px\">\n",
    "*[Image credit: Janeen Hutchins CC-BY-NC 2.0]*\n",
    "\n",
    "The visible surface of the sun is about 5900K (degrees Kelvin) which makes it <font color=\"#9090f0\"> whitish-blue. </font>\n",
    "\n",
    "Using `if`, `else` and `elif`, write a program that prints the colour an object will glow given a temperature in Kelvin, using the table below:\n",
    "\n",
    "| Colour | Temp. (K) |\n",
    "| ------ | ----- |\n",
    "| black | < 500 |\n",
    "| red | < 1000 |\n",
    "| yellow | < 3000 |\n",
    "| white | < 6000 |\n",
    "| blue | < 10000 |\n",
    "| deep blue | >= 10000 |\n",
    "\n",
    "Set the variable `colour` to the string corresponding to the temperature. Try a few different values to test if your solution works. "
   ]
  },
  {
   "cell_type": "code",
   "execution_count": 135,
   "metadata": {},
   "outputs": [],
   "source": [
    "def colour_temperature(temp_k):\n",
    "    \n",
    "    return colour"
   ]
  },
  {
   "cell_type": "code",
   "execution_count": 136,
   "metadata": {
    "scrolled": false
   },
   "outputs": [],
   "source": [
    "check_answer(colour_temperature(1200), b'gANYBgAAAHllbGxvd3EALg==')\n",
    "check_answer(colour_temperature(3300), b'gANYBQAAAHdoaXRlcQAu')\n",
    "check_answer(colour_temperature(13300), b'gANYCQAAAGRlZXAgYmx1ZXEALg==')\n",
    "check_answer(colour_temperature(300), b'gANYBQAAAGJsYWNrcQAu')"
   ]
  },
  {
   "cell_type": "markdown",
   "metadata": {},
   "source": [
    "## A.2 Sum of first n squares\n",
    "Write a program that finds the sum of the square of numbers from 0 to `n`  $= 0^2 + 1^2 + 2^2 + 3^2 + \\dots + n^2$. You can compute the square of a number `x` using `x*x` or `x**2`. Remember to include the number n.\n",
    "\n",
    "<img src=\"imgs/squares.gif\">\n",
    "Check that your code computes the  sum of squares for `n=3` as: \n",
    "\n",
    "    0*0 + 1*1 + 2*2 + 3*3 = 1+4+9 = 14\n",
    "    \n",
    "\n"
   ]
  },
  {
   "cell_type": "code",
   "execution_count": 137,
   "metadata": {},
   "outputs": [],
   "source": [
    "def sum_squares(n):\n",
    "    \n",
    "    # store your result in total_sqr\n",
    "    return total_sqr\n",
    "\n",
    "print(sum_squares(3))"
   ]
  },
  {
   "cell_type": "code",
   "execution_count": 138,
   "metadata": {},
   "outputs": [],
   "source": [
    "## Tests\n",
    "check_answer(sum_squares(20), b'gANNNgsu')\n",
    "check_answer(sum_squares(1), b'gANLAS4=')\n",
    "check_answer(sum_squares(8), b'gANLzC4=')"
   ]
  },
  {
   "cell_type": "markdown",
   "metadata": {},
   "source": [
    "### A.3 XXX\n",
    "You need to write out a placeholder for a given positive integer (a whole number >0). The placeholder should be a string with one X for each digit of the number. \n",
    "\n",
    "For example, \n",
    "* the number 156 would have placeholder \"XXX\".\n",
    "* the number 8675309 would have placeholder \"XXXXXXX\"\n",
    "* the number 1 would have placeholder \"X\"\n",
    "\n",
    "Write code that returns  the placeholder string for a given number.\n",
    "Store the number you are going to convert in a variable called `number`. Make sure it is an integer, and not a string!\n",
    "\n",
    "**Hints**\n",
    "* You can count the number of digits of an integer by repeatedly dividing by 10 until you get a number smaller than 1. \n",
    "* Remember that + can be used to append to a string. `\"sun\"+\"ra\" == \"sunra\"`\n",
    "\n",
    "There are several ways of solving this problem."
   ]
  },
  {
   "cell_type": "code",
   "execution_count": 139,
   "metadata": {},
   "outputs": [],
   "source": [
    "def xify(number):\n",
    "\n",
    "    return placeholder\n"
   ]
  },
  {
   "cell_type": "code",
   "execution_count": 140,
   "metadata": {},
   "outputs": [],
   "source": [
    "check_answer(xify(48), b'gANYAgAAAFhYcQAu')\n",
    "check_answer(xify(1), b'gANYAQAAAFhxAC4=')\n",
    "check_answer(xify(100), b'gANYAwAAAFhYWHEALg==')\n",
    "check_answer(xify(8675309), b'gANYBwAAAFhYWFhYWFhxAC4=')"
   ]
  },
  {
   "cell_type": "markdown",
   "metadata": {},
   "source": [
    "## A.4 Panels of numbers\n",
    "Use a nested for loops to print out a `n` grids of digits with dimensions `x` and `y`. Each grid should be separated by a blank line. Each grid should be filled with an integer, that should start at 0 and increase for every grid printed. Each integer should be separated by a space from the previous integer. \n",
    "\n",
    "*Note: just print the grids, don't return anything.*\n",
    "\n",
    "For example, for n=2, x=3, y=4, you should get\n",
    "\n",
    "    0 0 0\n",
    "    0 0 0\n",
    "    0 0 0\n",
    "    0 0 0\n",
    "    \n",
    "    1 1 1\n",
    "    1 1 1\n",
    "    1 1 1\n",
    "    1 1 1\n",
    "\n",
    "For n=4, x=5, y=1 you should get\n",
    "\n",
    "    0 0 0 0 0\n",
    "\n",
    "    1 1 1 1 1\n",
    "    \n",
    "    2 2 2 2 2\n",
    "    \n",
    "    3 3 3 3 3\n",
    "        "
   ]
  },
  {
   "cell_type": "code",
   "execution_count": 5,
   "metadata": {},
   "outputs": [],
   "source": [
    "\n",
    "def grid(x,y,n):\n",
    "\n",
    "\n",
    "## Test the code with a simple example\n",
    "grid(6,4,3)"
   ]
  },
  {
   "cell_type": "markdown",
   "metadata": {},
   "source": [
    "## A.5 Odd names\n",
    "\n",
    "You can iterate through each letter in a string like this:"
   ]
  },
  {
   "cell_type": "code",
   "execution_count": 6,
   "metadata": {},
   "outputs": [],
   "source": [
    "for letter in \"mystring\":\n",
    "    print(letter, end=' ')"
   ]
  },
  {
   "cell_type": "markdown",
   "metadata": {},
   "source": [
    "which prints:\n",
    "\n",
    "    m y s t r i n g        \n",
    "\n",
    "You can test if a letter is a vowel like this:\n",
    "\n",
    "    if letter in 'aeiou':\n",
    "        print(\"vowel\")\n",
    "    else:\n",
    "        print(\"consonant\")\n",
    "        \n",
    "Use this information to write a program that: \n",
    "* Takes a name\n",
    "* Leaves consonants unchanged\n",
    "* Changes any vowel to [vowel]l[vowel] (e.g. \"u\" becomes \"ulu\")\n",
    "* *Except* if the letter is e, when it should become \"eta\"\n",
    "* Prints out the modified name\n",
    "\n",
    "For example, \"sandy\" should become \"salandy\", \"helen\" should become \"hetaletan\" and \"alex\" should become \"alaletax\".\n",
    "\n"
   ]
  },
  {
   "cell_type": "code",
   "execution_count": 144,
   "metadata": {},
   "outputs": [],
   "source": [
    "def transform_name(name):\n",
    "\n",
    "    # put the result in transformed_string before it is returned\n",
    "    return transformed_string\n",
    "\n",
    "print(transform_name(\"cooper\"))"
   ]
  },
  {
   "cell_type": "code",
   "execution_count": 149,
   "metadata": {},
   "outputs": [],
   "source": [
    "check_answer(transform_name(\"curry\"), b'gANYBwAAAGN1bHVycnlxAC4=')\n",
    "check_answer(transform_name(\"haskell\"), b'gANYCwAAAGhhbGFza2V0YWxscQAu')\n",
    "check_answer(transform_name(\"gordon\"), b'gANYCgAAAGdvbG9yZG9sb25xAC4=')\n",
    "check_answer(transform_name(\"freeman\"), b'gANYDQAAAGZyZXRhZXRhbWFsYW5xAC4=')"
   ]
  },
  {
   "cell_type": "markdown",
   "metadata": {},
   "source": [
    "## A.6 Gone wrong\n",
    "The code below is supposed to print out prime numbers from 2 up to and including 211. However, it doesn't work. Fix it so it prints out these primes. There are at least four problems in this code that you might need to fix."
   ]
  },
  {
   "cell_type": "code",
   "execution_count": 20,
   "metadata": {},
   "outputs": [],
   "source": [
    "i = 2\n",
    "while i < 211:\n",
    "    factor = 2\n",
    "    prime = True\n",
    "    while factor <= i:\n",
    "        if i % factor == 0:  # check for divisiblity\n",
    "            prime = False\n",
    "    i = i + 1\n",
    "    if prime:\n",
    "        print(i)"
   ]
  },
  {
   "cell_type": "code",
   "execution_count": 30,
   "metadata": {},
   "outputs": [],
   "source": [
    "# Solution goes here"
   ]
  },
  {
   "cell_type": "markdown",
   "metadata": {},
   "source": [
    "---"
   ]
  },
  {
   "cell_type": "markdown",
   "metadata": {},
   "source": [
    "# Before going to part B\n",
    "**Run the cell below. You should see a line of small red stars on shown on a 2D plot. This cell enables the plotting commands we will use to show results.**"
   ]
  },
  {
   "cell_type": "code",
   "execution_count": 7,
   "metadata": {},
   "outputs": [],
   "source": [
    "# this bit just sets up the drawing for the \n",
    "# rest of the exercise **make sure you run it**\n",
    "%matplotlib notebook\n",
    "\n",
    "# remove ugly title bar\n",
    "IPython.display.display(IPython.display.HTML(\"\"\"<style> .output_wrapper button.btn.btn-default, .output_wrapper .ui-dialog-titlebar { display: none; } </style>\"\"\"))\n",
    "\n",
    "import matplotlib.pyplot as plt\n",
    "def redraw():\n",
    "    plt.gcf().canvas.draw()\n",
    "    \n",
    "# create a new space to draw in\n",
    "plt.figure()    \n",
    "for i in range(10):\n",
    "    # plot a red star at x=i, y=0\n",
    "    plt.plot(i, 0, 'r*')\n",
    "    redraw()   # force the figure to be drawn"
   ]
  },
  {
   "cell_type": "markdown",
   "metadata": {},
   "source": [
    "## B. In the Jungle\n",
    "These exercises should take about 30 minutes each.\n",
    "<img src=\"imgs/jungle.jpg\"> \n",
    "*Image credit: Phil Norton via flickr.com CC-BY-NC 2.0*\n",
    "\n"
   ]
  },
  {
   "cell_type": "markdown",
   "metadata": {},
   "source": [
    "You are a botanist, working in the jungle. You have various duties to perform, like growing and harvesting samples from your greenhouse, measuring anomalies you discover, and working on models of tree species growth and decay.\n",
    "\n",
    "### B.1 The greenhouse\n",
    "You have a number of rare tropical plants in your greenhouse. \n",
    "<img src=\"imgs/greenhouse.jpg\">\n",
    "*Photo credit: Dvortygirl via flickr.com CC-BY-SA 2.0*\n",
    "\n",
    "* The plants are all in a row, and you must stop by each plant and give it enough water to keep it alive. \n",
    "* If it is big enough, you must take a slice for your lab studies. \n",
    "* Your samples can only last a certain amount of time, even if you water them. You need to keep watering and sampling from the plants until they have all died.\n",
    "\n",
    "We'll be using a simplified version of the game world from the Week 2 video. This game world is called `JunglePlants`.\n",
    "\n",
    "You can use the following actions:\n",
    "* `j.reset()` to start over.\n",
    "* `j.left()` go left. Returns True if you can go left, False, if you can't go left.\n",
    "* `j.right()` go right. Returns True if you can go right, False, if you can't go right.\n",
    "\n",
    "**Note: `j.left()` and similar function calls both *do* something (tries to move left) *and* return a result to let you\n",
    "know if that succeeded or not. You can use these directly in tests like `if j.left():` if you want.**\n",
    "\n",
    "For example, running `j.left()` will return False when you first run the code, because the botanist cannot move left.\n",
    "\n",
    "* `j.water()` waters the plant under you.\n",
    "* `j.is_dry()` True if the plant hasn't got enough water.\n",
    "* `j.is_alive()` True if a plant is alive.\n",
    "* `j.measure()` return how tall a plant is in cm.\n",
    "* `j.sample()` take a sample of a plant.\n",
    "* `j.all_dead()` returns True if all the plants have died.\n",
    "\n",
    "There are 12 plant slots in your greenhouse.\n",
    "\n",
    "You need to write a program to: \n",
    "* keep visiting each plant.\n",
    "* water the plant until it is not dry.\n",
    "* measure it.\n",
    "* if it's greater than 5cm tall, take a sample\n",
    "* stop when all the plants have died.\n",
    "* print out how many samples you got. This can be found using `j.samples_collected()`\n",
    "\n",
    "Think about how you are going to reverse direction when you get to the end of the row of plants.\n",
    "\n",
    "You should be able to get at least 20 samples from the plants; if you're doing really well you might be able to get 40 or more (although each run is slightly different).\n",
    "\n",
    "**Tip: press CTRL-ENTER (not SHIFT-ENTER) to run a cell without it scrolling the web page. This makes it easier to see what your solution is doing.**"
   ]
  },
  {
   "cell_type": "code",
   "execution_count": 8,
   "metadata": {},
   "outputs": [],
   "source": [
    "# create the window for the game\n",
    "# note that your actions will show up in **this** cell, \n",
    "# not the cell you run\n",
    "import utils.jgame as jgame\n",
    "import IPython\n",
    "plt.figure(figsize=(12,3))\n",
    "j = jgame.JungleGame()"
   ]
  },
  {
   "cell_type": "code",
   "execution_count": 9,
   "metadata": {},
   "outputs": [],
   "source": []
  },
  {
   "cell_type": "code",
   "execution_count": null,
   "metadata": {},
   "outputs": [],
   "source": [
    "# This is an example solution, which you can run and test. Press CTRL-ENTER, and watch above.\n",
    "# This is a very bad solution. The botanist just waits about while the plants die.\n",
    "\n",
    "# make sure you do this in your solution!\n",
    "j.reset() # start from the start -- \n",
    "\n",
    "for i in range(200):\n",
    "    j.wait()    \n",
    "print(\"Collected %d samples\" % (j.samples_collected()))"
   ]
  },
  {
   "cell_type": "markdown",
   "metadata": {},
   "source": [
    "### B.2 Throwing stones in the jungle\n",
    "Sometimes we have problems that are hard to work out exactly, but can be **simulated** easily. Iteration (doing things repeatedly) is an essential part of simulation.\n",
    "<img src=\"imgs/crop_circle.jpg\">\n",
    "*[Photo credit: Massimiliano Mitch via flickr.com CC-BY 2.0]*\n",
    "\n",
    "A mysterious crop circle has been encountered in the middle of the jungle. You need to find out what the **area** of the circle is. You've fenced off a square of land around the circle. But without a calculator or the faintest idea how to find the areas of circles, how will you compute what the area of the circle is?"
   ]
  },
  {
   "cell_type": "markdown",
   "metadata": {},
   "source": [
    "We'll use **random simulation** to estimate the value of this area. \n",
    "This approach is called a *Monte Carlo* approach after the famous casinos in Monte Carlo where you can gamble on random outcomes. \n",
    "\n",
    "### Fenced square\n",
    "Imagine we throw stones *randomly* into a the fenced-off square with the crop circle inside it. Some stones will land inside the circle and some outside. \n",
    "\n",
    "**Principle of Monte Carlo sampling** *As we throw more stones (choose more random points), the ratio of stones landing in the circle to the number of stones we threw in total will get closer and closer to the ratio of area of the circle to the area of the surrounding square.*\n",
    "\n",
    "Then, if we know the area of the square (easy), we can compute the area of the circle if we work out what proportion of stones fall within the circle. *This works for any shape, as long as we can test whether or not a random point (stone) ends up inside it*.\n",
    "\n",
    "### Are we in a circle?\n",
    "Given a circle with centre (0, 0) and radius r, a point x,y is inside the circle if:\n",
    "\n",
    "    sqrt(x**2 + y**2) < r\n",
    "    \n",
    "(in mathematical notation, $\\sqrt{(x^2 + y^2)} < r$)    \n",
    "\n",
    "## Random numbers\n",
    "We can generate a random number in between the values `a` and `b` using `random.uniform(a,b)`. For example, to generate a random number between -5 and 5, we would write:\n",
    "\n",
    "    r = random.uniform(-5,5)\n",
    "    "
   ]
  },
  {
   "cell_type": "markdown",
   "metadata": {},
   "source": [
    "**As with the math package last week, you must `import random` before using it**\n",
    "\n",
    "There are three useful plotting commands you need to know. \n",
    "\n",
    "* `plt.figure()` generates a new figure in the notebook you can plot onto. If you don't use this, plotting will occur on the **last** figure you created, which isn't what you want. Use it at the start of your solution. But **don't** create a new figure every time you draw a single point -- just create one figure per solution.\n",
    "\n",
    "* `redraw()` redraws the figure. You can use this after you've drawn a point or a line to see what the figure looks like now. If you call it in a loop, you'll get real-time updates of the figure.\n",
    "\n",
    "* `plt.plot(x, y, '.')` plots a point at co-ordinates x,y. Remember you can use `redraw()` in the loop to see how the drawing is progressing.\n",
    "\n",
    "* `plt.axis('square')` will make sure your plot comes out with an actual circle and not an ellipse.\n",
    "\n",
    "### Step 1\n",
    "* Generate two random numbers between -1 and 1. \n",
    "* Plot these as a 2D point. \n",
    "* Redraw\n",
    "* Do this 200 times in a loop."
   ]
  },
  {
   "cell_type": "code",
   "execution_count": 155,
   "metadata": {},
   "outputs": [],
   "source": []
  },
  {
   "cell_type": "markdown",
   "metadata": {},
   "source": [
    "## Step 2\n",
    "* Modify your loop to check if the points are within a circle of radius 1, centered at (0,0)\n",
    "* If the point is inside, plot it using `plot(x,y, 'r.')`. If it is outside, plot is using `plot(x,y,'k.')`. This will put red points inside, and black outside.\n",
    "* Keep a track of how many points end up inside the circle.\n",
    "* Print out the **ratio of points that land inside the circle to the total number of iterations.**\n",
    "* Increase the number of iterations to 1000 (*don't* use `redraw()` in the loop for this step, or it'll take *forever* to run this).\n",
    "**Hint** Remember that `sqrt()` can be found in the `math` module. Import it using\n",
    "\n",
    "    import math"
   ]
  },
  {
   "cell_type": "code",
   "execution_count": 156,
   "metadata": {},
   "outputs": [],
   "source": []
  },
  {
   "cell_type": "markdown",
   "metadata": {},
   "source": [
    "## Step 3.\n",
    "* Assume the fenced off area in the jungle is the square from (-1,-1) to (1,1) you have been using.\n",
    "\n",
    "* This means you are drawing points from a rectangle of size 2 x 2, (-1 to 1 is 2 units).\n",
    "\n",
    "* We know the circle must really have area $A=\\pi r^2$, and $r$ must be 1 (if we assume the circle fits inside the square exactly). \n",
    "\n",
    "* The area of the circle with radius 1 is just $\\pi 1^2=1$. A circle of radius 1 *just* fits inside a square of size 2x2:\n",
    "\n",
    "<img src=\"imgs/circle.png\">\n",
    "\n",
    "You know what proportion of stones fell inside the circle (known to be of area $\\pi$), and the number that fell inside the square (know to be of area 4). By the **principle of Monte Carlo sampling**, the ratio of stones inside the circle to those that fell anywhere in the square is *approximately* the same as the ratio of their areas.\n",
    "\n",
    "Compute an *estimate* of $\\pi$ using this knowledge and the ratio of random points that landed inside the circle from Step 2.\n",
    "\n",
    "Note: this part is much easier than it seems. \n",
    "\n",
    "Try increasing and decreasing the number of iterations in Step 2 and see how that affects your estimate.\n",
    "\n",
    "### Consider how we are able to calculate $\\pi$ by throwing stones into the jungle!"
   ]
  },
  {
   "cell_type": "code",
   "execution_count": 157,
   "metadata": {},
   "outputs": [],
   "source": []
  },
  {
   "cell_type": "markdown",
   "metadata": {},
   "source": [
    "# B.3 The population of plants\n",
    "A very simple model of the population of a group of plants over time is given by the formula:\n",
    "\n",
    "    x = r * x * (1-x)\n",
    "\n",
    "\n",
    "The formula gives a rule to compute the new population $x$ given the population in a previous time period (e.g. the previous year). We assume that the population of plants has some fixed limit, and that $x$ represents a proportion, from 0.0 to 1.0, of that limit.\n",
    "\n",
    "$r$ is a constant we set that defines something about the plant population (e.g. how likely it is to breed or to dry out). We'd expect grass, for example, to have different $r$ from giant ferns.\n",
    "<img src=\"imgs/fern.jpg\">\n",
    "*[Photo credit: Jennifer C. via flickr.com CC-BY 2.0]*\n",
    "\n",
    "Write a program that:\n",
    "* Fixes a value of r (start with r=1.5)\n",
    "* Starts with a population x=0.5 (\"half full\")\n",
    "* Computes the new value of the population using the formula above\n",
    "* Plots each population result at position (iteration, x)\n",
    "* Runs this update formula 100 times. **Think: how will you repeat an operation 100 times?**\n",
    "\n",
    "* Try it with r=1.0 and r=0.5.\n",
    "\n",
    "For some values of $r$ you should see the population stabilise (because there is a balance between food available and breeding rate). For other $r$ the population will decline to 0.\n",
    "\n",
    "Remember to start your solution with `plt.figure()` to generate a new figure to draw on. Use `redraw()` to update the figure after plotting a new point."
   ]
  },
  {
   "cell_type": "code",
   "execution_count": 125,
   "metadata": {},
   "outputs": [],
   "source": []
  },
  {
   "cell_type": "markdown",
   "metadata": {},
   "source": [
    "### Step 2\n",
    "What does $r$ do? How does it affect our model? We can experiment with it to understand our model better.\n",
    "\n",
    "We can explore what effect $r$ has on our simulation by setting it to many different values and plotting the results. It's easy to adjust our simulation to do this.\n",
    "\n",
    "* Modify the program to iterate so that r goes through values from 0.0 to 4.0, **excluding 4.0**.\n",
    "* You will need to increment `r` in *fractional* steps, spaced by 0.1. **Think about how to do this.**\n",
    "* Make sure you do not increase `r` beyond 3.9 *or the program will not work*.\n",
    "* *For each value of r*, do 50 iterations of the update rule you used above.\n",
    "* Reset `x` to 0.5 every time you test a new value of `r`.\n",
    "* Instead of plotting a point at `(iteration, x)`, plot a point at `(r,x)`.\n",
    "* Instead of using `plot(x,y,'.')` to plot a point at (x,y), use the command `plot(x, y, 'k.', alpha=0.2)`. This will make your points semi-transparent.\n",
    "\n",
    "## Running\n",
    " Are the results what you expected? Is this likely to be a good model of plant populations? Do the results depend on the initial value of $x$?\n"
   ]
  },
  {
   "cell_type": "code",
   "execution_count": 126,
   "metadata": {},
   "outputs": [],
   "source": []
  },
  {
   "cell_type": "markdown",
   "metadata": {},
   "source": [
    "\n",
    "                   "
   ]
  },
  {
   "cell_type": "markdown",
   "metadata": {},
   "source": [
    "----\n",
    "\n",
    "# C: Extended problems: Fractals\n",
    "These *extended* problems are optional for students who are keen to learn more and find the above material straightforward. If you've finished the whole lab and want to explore these ideas in more depth, these problems and resources are intended to help you do that. <font color=\"red\"> You do not need to attempt any of this section to receive a tick! </font> Your tutor *may* help you with this work, but they will prioritise students working on A and B problems.\n",
    "\n",
    "----------------------\n"
   ]
  },
  {
   "cell_type": "markdown",
   "metadata": {},
   "source": [
    "# C.1 The Lorenz attractor\n",
    "\n",
    "The *Lorenz attractor* is a mathematical object -- a **strange attractor** which we can visualise as the path of particle affected by some very simple equations. It has a very characterstic \"butterfly shape\".\n",
    "\n",
    "If we have a particle in 3D, with position $x,y,z$, we can find the next position it will be at using:\n",
    "\n",
    "     z = z + dt * (x * y - b * z)\n",
    "     y = y + dt * (x * (p - z) - y)\n",
    "     x = x + dt * (s * (y - x))\n",
    "    \n",
    "`dt` is a time constant, and tells you how big the update steps will be.\n",
    "\n",
    "### Task\n",
    "Write a program that starts at `x=0.5, y=0.25, z=-0.25`, and runs several thousand iterations of this equation. Plot each point on a graph. You can just plot the x and z coordinates, or look up how to make 3D plots in `matplotlib` (the plotting package we are using).\n",
    "\n",
    "Set `dt=0.005, p=28, s=10, b=8.0/3.0` to begin with.\n",
    "\n",
    "If you remember the last point you were at, and then use the form:\n",
    "\n",
    "    plt.plot([last_x, x], [last_y, y], 'k-')\n",
    "    \n",
    "you will join up the lines between points."
   ]
  },
  {
   "cell_type": "code",
   "execution_count": 162,
   "metadata": {},
   "outputs": [],
   "source": []
  },
  {
   "cell_type": "markdown",
   "metadata": {},
   "source": [
    "### C.2 Spiral orbits\n",
    "If we take a number $c$ and apply the rule\n",
    "    $$z=z^2 + c,$$ with $z$ starting at 0, we can plot the result as we apply the rule again and again.\n",
    "    \n",
    "* Write a short program that implements this rule.\n",
    "* Set c to 0.2.\n",
    "* Make it run for 200 iterations.\n",
    "* Plot a point with x position given by the current iteration, and y value given by the current value of z.\n"
   ]
  },
  {
   "cell_type": "code",
   "execution_count": 128,
   "metadata": {},
   "outputs": [],
   "source": []
  },
  {
   "cell_type": "markdown",
   "metadata": {},
   "source": [
    "### Making it more interesting\n",
    "So far, so boring. It turns out that this update rule can produce quite interesting spiral shapes, but only if we let $c$ be a **complex number**. \n",
    "\n",
    "If you've encountered complex numbers before, you'll be aware they have two parts (called the real and imaginary parts).\n",
    "\n",
    "If you've not heard of complex numbers, don't panic! We are not going to go into any mathematical theory here. Imagine them as a kind of 2D number, which have an $x$ and $y$ position, instead of a single $x$ position on a number line. We don't have to worry about rules for using complex numbers, because Python can do this automatically. Just think of them as special numbers which can hold a pair of values.\n",
    "\n",
    "We can create a new number with two coordinates $x$ and $y$ by writing a Python expression `x+yj`. For example, the expression 1+1j means x=1, y=1 and 4+-3j means x=4, y=-3."
   ]
  },
  {
   "cell_type": "code",
   "execution_count": 30,
   "metadata": {},
   "outputs": [],
   "source": [
    "c1 = 1 + 1j\n",
    "print(c1)\n",
    "\n",
    "c2 = 5 + -6j\n",
    "print(c2)"
   ]
  },
  {
   "cell_type": "markdown",
   "metadata": {},
   "source": [
    "We can add and multiply these numbers as well:"
   ]
  },
  {
   "cell_type": "code",
   "execution_count": 31,
   "metadata": {},
   "outputs": [],
   "source": [
    "print(c1 + c2)\n",
    "print(c1 * c2)"
   ]
  },
  {
   "cell_type": "markdown",
   "metadata": {},
   "source": [
    "And we can separate the coordinates back out, using two methods called `.real` and `.imag`"
   ]
  },
  {
   "cell_type": "code",
   "execution_count": 32,
   "metadata": {},
   "outputs": [],
   "source": [
    "# c1 = 1 + 1j, so we'll see 1.0 1.0\n",
    "print(c1.real, c1.imag)\n",
    "\n",
    "# c2 = 5 + -6j, so we'll see 5.0 -6.0\n",
    "print(c2.real, c2.imag)"
   ]
  },
  {
   "cell_type": "markdown",
   "metadata": {},
   "source": [
    "### The size of a complex number\n",
    "We can compute how \"big\" a complex number is using `abs()`, the absolute value. For example:"
   ]
  },
  {
   "cell_type": "code",
   "execution_count": 33,
   "metadata": {},
   "outputs": [],
   "source": [
    "print(abs(1))\n",
    "print(abs(1+1j))\n",
    "print(abs(-5))\n",
    "print(abs(6+-5j))"
   ]
  },
  {
   "cell_type": "markdown",
   "metadata": {},
   "source": [
    "### Task\n",
    "* Modify the $z=z^2+c$ plotting code you wrote so that `c` is the complex number `0.3210 + 0.3429j`. \n",
    "* Modify the plotting to plot the two components of z (using `.imag` and `.real`) as the x and y coordinate, instead of the iteration count and the value of z. \n",
    "* Make the loop stop if the absolute value of z is greater than 2.0, **or more than 100 iterations occur**.\n",
    "\n",
    "If you do this correctly, you'll see a kind of spiral shape.\n"
   ]
  },
  {
   "cell_type": "code",
   "execution_count": 132,
   "metadata": {},
   "outputs": [],
   "source": []
  },
  {
   "cell_type": "markdown",
   "metadata": {},
   "source": [
    "### C.3 Mandelbrot set\n",
    "<img src=\"imgs/mandelbrot_set.jpg\">\n",
    "\n",
    "*[Image credit: CC BY-SA 3.0, https://commons.wikimedia.org/w/index.php?curid=321973]*\n",
    "\n",
    "If we consider a position $c$ to be a point on a 2D plane (real x-coordinate, imaginary y-coordinate), then we can see whether the spiral we get stays small or gets extremely large. All spirals will do one of these things.\n",
    "\n",
    "We'll consider a spiral to be \"getting large\" if $z$ ever reaches an absolute value of 2.0 -- if this happens, it's definitely on the way out.\n",
    "\n",
    "If we then plot the points where the spiral does not get large, we will plot the **Mandelbrot set**. This is the set of points where $z=z^2+c$ does not diverge. This is a fractal, and you can read more about on [Wikipedia](https://en.wikipedia.org/wiki/Mandelbrot_set).\n",
    "\n",
    "## Task\n",
    "We'll randomly sample from points to draw a rough Mandelbrot set. Feel free to use a regular sampling approach to get finer detail if you want, but that might require some thought!\n",
    "\n",
    "* Using the random point generator you used in B.1, create a random $x$ and $y$ coordinate in the range (-2,2).\n",
    "* Make these two random coordinates into a single complex number (you'll need to use the expression `c = x + y * 1j` to convert x and y to a single complex number)\n",
    "* Run the $z=z^2+c$ loop as in the last part of B.2, but **don't** plot any points in this loop.\n",
    "* Only run the $z=z^2+c$ loop 20 times, otherwise this will take a long time!\n",
    "* Plot a point at the coordinates of *c* (not z!) if the loop ends without `abs(z)>2.0`\n",
    "* Do nothing if the loop ends with `abs(z)>2.0`\n",
    "\n",
    "\n",
    "\n",
    "* Now run this entire loop 20000 times, and see what result you get.\n"
   ]
  },
  {
   "cell_type": "code",
   "execution_count": 133,
   "metadata": {},
   "outputs": [],
   "source": [
    "# Solution goes here"
   ]
  },
  {
   "cell_type": "markdown",
   "metadata": {},
   "source": [
    "## Still too easy?\n",
    "Work out how to render the [Buddhabrot](https://en.wikipedia.org/wiki/Buddhabrot). \n",
    "\n",
    "<img src=\"imgs/Buddhabrot.png\">\n",
    "\n",
    "*By Purpy Pupple, Evercat, Michael Pohoreski - Own work, CC BY-SA 3.0, https://commons.wikimedia.org/w/index.php?curid=12724105*"
   ]
  }
 ],
 "metadata": {
  "celltoolbar": "Visualize",
  "kernelspec": {
   "display_name": "Python 3",
   "language": "python",
   "name": "python3"
  },
  "language_info": {
   "codemirror_mode": {
    "name": "ipython",
    "version": 3
   },
   "file_extension": ".py",
   "mimetype": "text/x-python",
   "name": "python",
   "nbconvert_exporter": "python",
   "pygments_lexer": "ipython3",
   "version": "3.7.1"
  },
  "toc": {
   "nav_menu": {},
   "number_sections": true,
   "sideBar": true,
   "skip_h1_title": false,
   "toc_cell": false,
   "toc_position": {},
   "toc_section_display": "block",
   "toc_window_display": false
  },
  "varInspector": {
   "cols": {
    "lenName": 16,
    "lenType": 16,
    "lenVar": 40
   },
   "kernels_config": {
    "python": {
     "delete_cmd_postfix": "",
     "delete_cmd_prefix": "del ",
     "library": "var_list.py",
     "varRefreshCmd": "print(var_dic_list())"
    },
    "r": {
     "delete_cmd_postfix": ") ",
     "delete_cmd_prefix": "rm(",
     "library": "var_list.r",
     "varRefreshCmd": "cat(var_dic_list()) "
    }
   },
   "types_to_exclude": [
    "module",
    "function",
    "builtin_function_or_method",
    "instance",
    "_Feature"
   ],
   "window_display": false
  }
 },
 "nbformat": 4,
 "nbformat_minor": 1
}
