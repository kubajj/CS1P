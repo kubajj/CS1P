{
 "cells": [
  {
   "cell_type": "markdown",
   "metadata": {},
   "source": [
    "## CS1P Lab Exam 1 \n",
    "### Practice problem"
   ]
  },
  {
   "cell_type": "markdown",
   "metadata": {},
   "source": [
    "<div class=\"alert alert-box alert-danger\">\n",
    "    \n",
    "You must not import *any* libraries in this code except those already imported for you. \n",
    "You may only use concepts and programming constructs from the CS1P course.\n",
    "\n",
    "</div>"
   ]
  },
  {
   "cell_type": "code",
   "execution_count": 4,
   "metadata": {},
   "outputs": [],
   "source": [
    "from show_line import show_line, show_many_lines\n",
    "import math, random # only permitted imports"
   ]
  },
  {
   "cell_type": "markdown",
   "metadata": {},
   "source": [
    "## Problem\n",
    "\n",
    "You are asked to make predictions about the weather. You have data recorded as a CSV file. You are asked to load the data, and create a model that will make simple predictions. In this case, you will be asked to fit a line to a collection of measurements.\n",
    "\n",
    "\n",
    "**Marks are only shown to show how the actual exam will be broken down for marking; there are no marks for the practice problem.**"
   ]
  },
  {
   "cell_type": "markdown",
   "metadata": {},
   "source": [
    "## 1. Load the data [12 marks]\n",
    "\n",
    "The data you will load is a measurement of environmental data recorded daily over several months in New York. The data you have is formatted as follows:"
   ]
  },
  {
   "cell_type": "markdown",
   "metadata": {},
   "source": [
    "       day,temp_f\n",
    "    \n",
    "        \n",
    "That is,\n",
    "* each line is a comma-separated pair with a day number and a daily temperature in Farenheit. \n",
    "* All values are positive numbers. \n",
    "* There may be any number of spaces at the start or end of a line, or around delimiters. \n",
    "    \n",
    "The data is in a file `data/ny_data_basic.txt`. There are exactly 80 pairs of measurements in this file."
   ]
  },
  {
   "cell_type": "markdown",
   "metadata": {},
   "source": [
    "You must define two functions:\n",
    "* `parse_line(s)` must parse a string representing *one line* of the file and return the data for that line (i.e. a day number and a temperature).\n",
    "* `load_data(fname)` must take a filename and return all of the data loaded from `fname`.\n",
    "\n",
    "Temperatures should be converted from Farenheit to Celcius using the formula: deg_c = 5/9 * (deg_f-32)\n",
    "\n"
   ]
  },
  {
   "cell_type": "code",
   "execution_count": 5,
   "metadata": {},
   "outputs": [],
   "source": [
    "## Your code here\n",
    "def parse_line(s):#converts string - line - to two values of day and temperature in degrees\n",
    "    line = s.split(\",\")\n",
    "    day = int(line[0].strip())\n",
    "    temp = 5/9*(float(line[1].strip())-32)#equation to convert farenheit to celsius\n",
    "    return day,temp#output is day and temperature in degrees\n",
    "\n",
    "def load_data(fname):\n",
    "    data = []#create an empty list\n",
    "    with open(fname) as f:#open file and read\n",
    "        for l in f:#loop through lines in the file\n",
    "            data.append(parse_line(l))#add the new already converted line to data\n",
    "    return data"
   ]
  },
  {
   "cell_type": "code",
   "execution_count": 6,
   "metadata": {},
   "outputs": [],
   "source": [
    "# load the data file\n",
    "data = load_data('data/ny_data_basic.txt')"
   ]
  },
  {
   "cell_type": "markdown",
   "metadata": {},
   "source": [
    "## 1.T: Validate the data loading [8 marks]\n",
    "\n",
    "Write tests that will validate that this code works correctly using `assert`. You should, in particular, test `parse_line`. You may assume that the data will always be in the format specified above."
   ]
  },
  {
   "cell_type": "code",
   "execution_count": 31,
   "metadata": {},
   "outputs": [
    {
     "name": "stdout",
     "output_type": "stream",
     "text": [
      "All tests passed!\n"
     ]
    }
   ],
   "source": [
    "assert \"parse_line\" in globals(), \"You did not define parse_line\"\n",
    "assert \"load_data\" in globals(), \"You did not define load_data\"\n",
    "\n",
    "## Your tests here\n",
    "assert parse_line(\"1,32\") == (1,0) #tests if 32 F converts to 0 C\n",
    "assert parse_line(\"0,212\") == (0,100) #tests if 212 F converts to 100 C\n",
    "assert parse_line(\" 1,32  \") == (1,0)\n",
    "assert parse_line(\" 1  ,   32  \") == (1,0)\n",
    "assert parse_line(\"  0  ,   212   \") == (0,100)\n",
    "assert parse_line(\"0  ,   212\") == (0,100)\n",
    "\n",
    "loaded = load_data('data/ny_data_basic.txt')\n",
    "assert len(loaded) == 80 #tests if all the data loaded - 80 was said to be number of lines in the task\n",
    "#test if each of the elements has two values\n",
    "elts = 0\n",
    "for i in range(len(loaded)):\n",
    "    elts += len(loaded[i])\n",
    "assert elts/len(loaded) == 2\n",
    "print(\"All tests passed!\")"
   ]
  },
  {
   "cell_type": "markdown",
   "metadata": {},
   "source": [
    "## 2. Fit a line [10 marks]\n",
    "\n",
    "You need to fit a straight line to this data, i.e. find the best straight line that comes close to these pairs of values. \n",
    "\n",
    "The equation of a straight line is: $$y=mx+c$$\n",
    "\n",
    "To fit a line to data, we need two things: \n",
    "1. a function to measure how bad a proposed line fit -- that is the total error for some values for m and c -- is to some data consisting of x,y measurements;\n",
    "1. a procedure for incrementally adjusting m and c so that it is a better fit to some data.\n",
    "\n",
    "### Error\n",
    "The badness of a fit (or *error*) for a choice of `m` and `c` can be measured for any specific data point `x, y` and computing: `error = (y - m * x + c)**2` and the overall error can be computed by summing this across all data points.\n",
    "\n",
    "### Adjustment\n",
    "To adjust the fit, implement the following procedure:\n",
    "* randomly guess an initial value for m and c\n",
    "* then, repeat N times\n",
    "    * adjust m and c by a small random amount\n",
    "    * compute the error with this adjusted guess\n",
    "    * if the result is better (error is smaller)\n",
    "        * make the new adjust m,c the current best guess\n",
    "\n",
    "An initial random guess for m and c can be produced using `random.uniform(a,b)` which generates a random number between `a` and `b`.  The function `random.gauss(x, s)` returns a random number close to `x` whose range is determined by `s` -- larger `s` makes bigger \"jumps\"."
   ]
  },
  {
   "cell_type": "markdown",
   "metadata": {},
   "source": [
    "* Assume that `m` must be between [-10, 10] and `c` must be between [-100, 100]\n",
    "* Assume that you will adjust estimates of `m` by 0.05 and `c` by 0.5 on each guess\n",
    "    \n",
    "Write a function `fit_line(data, N=10000)` which will fit a line to data, in the format returned by `load_data()`, and return `m` and `c` using `N` update steps. You may wish to break this down into simpler functions.  If your function works, the line fitting error should go down as N increases.\n",
    "\n",
    "**To make sure your results are repeatable, call `random.seed(2019)` at the very start of your `fit_line` function.**\n",
    "\n"
   ]
  },
  {
   "cell_type": "code",
   "execution_count": 8,
   "metadata": {},
   "outputs": [],
   "source": [
    "## Your code here\n",
    "def error(data,m,c):\n",
    "    err = 0\n",
    "    for t in data:\n",
    "        err += (t[1] - m * t[0] - c)**2 #t[0] is number of day, t[1] is the temperature\n",
    "    return err\n",
    "\n",
    "def fit_line(data, N=10_000):\n",
    "    random.seed(2019)\n",
    "    m = random.uniform(-10,10)\n",
    "    adjust_m = 0.05\n",
    "    c = random.uniform(-100,100)\n",
    "    adjust_c = 0.5\n",
    "    lowest_error = error(data,m,c)\n",
    "    for i in range(N):\n",
    "        guess_m = random.gauss(m,adjust_m)\n",
    "        guess_c = random.gauss(c,adjust_c)\n",
    "        e = error(data,guess_m,guess_c)\n",
    "        if e < lowest_error:\n",
    "            lowest_error = e\n",
    "            m = guess_m\n",
    "            c = guess_c\n",
    "    return m,c"
   ]
  },
  {
   "cell_type": "code",
   "execution_count": 9,
   "metadata": {},
   "outputs": [
    {
     "data": {
      "image/png": "[encoded data removed]",
      "text/plain": [
       "<Figure size 432x288 with 1 Axes>"
      ]
     },
     "metadata": {
      "needs_background": "light"
     },
     "output_type": "display_data"
    }
   ],
   "source": [
    "# show the line fit perfomance\n",
    "m,c = fit_line(data, N=10_000)\n",
    "show_line(data, m, c) # this will show your fit"
   ]
  },
  {
   "cell_type": "markdown",
   "metadata": {},
   "source": [
    "## 2.T Validate the line fitting [5 marks]\n",
    "\n",
    " Write tests to validate the functions you have written. Test *all* of the functions you implement!"
   ]
  },
  {
   "cell_type": "code",
   "execution_count": 16,
   "metadata": {},
   "outputs": [
    {
     "name": "stdout",
     "output_type": "stream",
     "text": [
      "All tests passed!\n"
     ]
    }
   ],
   "source": [
    "## Your tests here\n",
    "#tests error with all zeros\n",
    "assert error([(0,0)],0,0) == 0\n",
    "#tests if m is almost 1 (caused by definite number of loops) if the points are one a line y=x\n",
    "linear = fit_line([(1,1),(2,2)],N=10000)[0]\n",
    "assert 1.05 >= linear and linear >= 0.95\n",
    "\n",
    "assert len(fit_line(data)) == 2\n",
    "\n",
    "#tests if the error gets smaller with higher number of interation\n",
    "one = fit_line(data, N=1)\n",
    "error1 = error(data,one[0],one[1])\n",
    "hundred = fit_line(data, N=100)\n",
    "error100 = error(data,hundred[0],hundred[1])\n",
    "ten_thousand = fit_line(data, N=10_000)\n",
    "error10000 = error(data,ten_thousand[0],ten_thousand[1])\n",
    "assert error1 > error100, \"Error does not lower from 1 to 100\"\n",
    "assert error100 > error10000, \"Error does lower from 100 to 10000\"\n",
    "print(\"All tests passed!\")"
   ]
  },
  {
   "cell_type": "markdown",
   "metadata": {},
   "source": [
    "## 3. Line fitting variant [8 marks]\n",
    "Write a function `partial_fits(data, N)` which implements the following algorithm. You must implement the following algorithm carefully:\n",
    "\n",
    "* For `i` ranging from 0 up to the number of data points\n",
    "    * Take the first `i` data points *only*;\n",
    "    * Fit a line to those first `i` points using the `fit_line` function you defined above.\n",
    "    * Record the m and c for the line fit to *that subset* in a list\n",
    "* Return a list of *all* n fits, i.e. one [m,c] pair for each subset of the data."
   ]
  },
  {
   "cell_type": "code",
   "execution_count": 11,
   "metadata": {},
   "outputs": [],
   "source": [
    "## Your code here\n",
    "def partial_fits(data, N=10_000):\n",
    "    fits = []\n",
    "    for i in range(len(data)):\n",
    "        fits.append(fit_line(data[:i],N))\n",
    "    return fits\n"
   ]
  },
  {
   "cell_type": "markdown",
   "metadata": {},
   "source": [
    "## 3.T Test the line fitting variant [3 marks]"
   ]
  },
  {
   "cell_type": "code",
   "execution_count": 24,
   "metadata": {},
   "outputs": [
    {
     "name": "stdout",
     "output_type": "stream",
     "text": [
      "All tests passed!\n"
     ]
    }
   ],
   "source": [
    "## Your tests here\n",
    "assert len(partial_fits(data)) == len(data)\n",
    "assert len(partial_fits(data[:15])) == len(data[:15])\n",
    "\n",
    "#this tests that if the next point in data has higher temperature than the previous one, then the m is higher than the previous\n",
    "first_ten = [partial_fits(data[:i])[i-1][1] for i in range(1,10)]\n",
    "for i in range(2,9):#we need not to take care of first element, as it is just random value\n",
    "    if data[i][1] > data[i-1][1]:\n",
    "        assert first_ten[i] > first_ten[i-1]\n",
    "print(\"All tests passed!\")"
   ]
  },
  {
   "cell_type": "markdown",
   "metadata": {},
   "source": [
    "## 4. Apply line fitting  [4 marks]\n",
    "Use your `partial_fit` function on the data you loaded in Part 1. The pre-defined function `show_many_lines(data, fits, ranges)` takes two lists and plots a graph given:\n",
    "* `fits` a list of m,c pairs representing a line fit\n",
    "* `ranges` a list of [start, end] ranges representing indices of data that correspond to those fits (i.e. the indices representing the subsets of data used to compute those fits).\n",
    "\n",
    "You should plot a graph that looks like below:\n",
    "<img src=\"partial_fit.png\">"
   ]
  },
  {
   "cell_type": "code",
   "execution_count": 13,
   "metadata": {},
   "outputs": [
    {
     "data": {
      "image/png": "[encoded data removed]",
      "text/plain": [
       "<Figure size 432x288 with 1 Axes>"
      ]
     },
     "metadata": {
      "needs_background": "light"
     },
     "output_type": "display_data"
    }
   ],
   "source": [
    "## Your code here\n",
    "fits = partial_fits(data, 10_000)\n",
    "ranges = [(0,i) for i in range(81)]#a list that starts at (0,0) and goes to (0,80)\n",
    "show_many_lines(data, fits, ranges)"
   ]
  }
 ],
 "metadata": {
  "kernelspec": {
   "display_name": "Python 3",
   "language": "python",
   "name": "python3"
  },
  "language_info": {
   "codemirror_mode": {
    "name": "ipython",
    "version": 3
   },
   "file_extension": ".py",
   "mimetype": "text/x-python",
   "name": "python",
   "nbconvert_exporter": "python",
   "pygments_lexer": "ipython3",
   "version": "3.7.3"
  },
  "varInspector": {
   "cols": {
    "lenName": 16,
    "lenType": 16,
    "lenVar": 40
   },
   "kernels_config": {
    "python": {
     "delete_cmd_postfix": "",
     "delete_cmd_prefix": "del ",
     "library": "var_list.py",
     "varRefreshCmd": "print(var_dic_list())"
    },
    "r": {
     "delete_cmd_postfix": ") ",
     "delete_cmd_prefix": "rm(",
     "library": "var_list.r",
     "varRefreshCmd": "cat(var_dic_list()) "
    }
   },
   "types_to_exclude": [
    "module",
    "function",
    "builtin_function_or_method",
    "instance",
    "_Feature"
   ],
   "window_display": false
  }
 },
 "nbformat": 4,
 "nbformat_minor": 2
}
