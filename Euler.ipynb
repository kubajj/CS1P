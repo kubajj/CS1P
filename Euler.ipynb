{
 "cells": [
  {
   "cell_type": "code",
   "execution_count": 4,
   "metadata": {},
   "outputs": [
    {
     "data": {
      "text/plain": [
       "233168"
      ]
     },
     "execution_count": 4,
     "metadata": {},
     "output_type": "execute_result"
    }
   ],
   "source": [
    "def three_or_five(n=1000):\n",
    "    res = 0\n",
    "    for i in range(n):\n",
    "        if i%3==0 or i%5==0:\n",
    "            res += i\n",
    "    return res\n",
    "\n",
    "three_or_five(1000)"
   ]
  },
  {
   "cell_type": "code",
   "execution_count": 10,
   "metadata": {},
   "outputs": [
    {
     "data": {
      "text/plain": [
       "4613732"
      ]
     },
     "execution_count": 10,
     "metadata": {},
     "output_type": "execute_result"
    }
   ],
   "source": [
    "memo = {1:1,2:1}\n",
    "def fibonacci(n = 4000000):\n",
    "    current = 0\n",
    "    pos = 2\n",
    "    res = 0\n",
    "    while current < n:\n",
    "        if not current == 0:\n",
    "            memo[pos] = current\n",
    "        pos += 1\n",
    "        current = memo[pos-1]+memo[pos-2]\n",
    "        if current % 2 == 0:\n",
    "            res += current\n",
    "    return res\n",
    "\n",
    "fibonacci()"
   ]
  },
  {
   "cell_type": "code",
   "execution_count": 24,
   "metadata": {},
   "outputs": [
    {
     "data": {
      "text/plain": [
       "6857"
      ]
     },
     "execution_count": 24,
     "metadata": {},
     "output_type": "execute_result"
    }
   ],
   "source": [
    "import math\n",
    "\n",
    "def primes(n):\n",
    "    primes = [2]\n",
    "    for i in range(3,n):        \n",
    "        prime = True\n",
    "        for j in range(2,int(math.sqrt(i))):\n",
    "            if i % j == 0:\n",
    "                prime = False\n",
    "                break\n",
    "        if prime:\n",
    "            primes.append(i)\n",
    "    return primes\n",
    "\n",
    "def prime_factor(n):\n",
    "    possible_factors = primes(int(math.sqrt(n)))\n",
    "    possible_factors.sort(reverse=True)\n",
    "    for p in possible_factors:\n",
    "        if n%p == 0:\n",
    "            return p\n",
    "\n",
    "prime_factor(600851475143 )"
   ]
  },
  {
   "cell_type": "code",
   "execution_count": 7,
   "metadata": {},
   "outputs": [
    {
     "data": {
      "text/plain": [
       "906609"
      ]
     },
     "execution_count": 7,
     "metadata": {},
     "output_type": "execute_result"
    }
   ],
   "source": [
    "def palindrome():\n",
    "    maximum = 0\n",
    "    for i in range(999,100,-1):\n",
    "        for j in range(999,100,-1):\n",
    "            s = str(i*j)\n",
    "            if s == s[::-1] and maximum < int(s):\n",
    "                maximum = int(s)\n",
    "    return maximum\n",
    "palindrome()"
   ]
  }
 ],
 "metadata": {
  "kernelspec": {
   "display_name": "Python 3",
   "language": "python",
   "name": "python3"
  },
  "language_info": {
   "codemirror_mode": {
    "name": "ipython",
    "version": 3
   },
   "file_extension": ".py",
   "mimetype": "text/x-python",
   "name": "python",
   "nbconvert_exporter": "python",
   "pygments_lexer": "ipython3",
   "version": "3.7.3"
  }
 },
 "nbformat": 4,
 "nbformat_minor": 2
}
