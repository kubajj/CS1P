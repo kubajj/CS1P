{
 "cells": [
  {
   "cell_type": "markdown",
   "metadata": {},
   "source": [
    "# Lab week 12 - Sorting and Complexity\n",
    "## Task 1 - The join function (and split) (in join.py)\n",
    "a) Write a function join which, given two lists, it returns a list in which each element is a list of two elements, one from each of the given lists. For example:\n",
    "\n",
    "```\n",
    "join( [1,2,3] , [\"a\",\"b\",\"c\"] )\n",
    "returns [ [1, \"a\"], [2, \"b\"], [3, \"c\"] ]\n",
    "```\n",
    "\n",
    "We assume that the given lists both have the same length."
   ]
  },
  {
   "cell_type": "code",
   "execution_count": 2,
   "metadata": {},
   "outputs": [
    {
     "data": {
      "text/plain": [
       "[[1, 'a'], [2, 'b'], [3, 'c']]"
      ]
     },
     "execution_count": 2,
     "metadata": {},
     "output_type": "execute_result"
    }
   ],
   "source": [
    "def join(l1, l2):\n",
    "    return [[a,l2[i]] for i,a in enumerate(l1)]\n",
    "join( [1,2,3] , [\"a\",\"b\",\"c\"] )"
   ]
  },
  {
   "cell_type": "markdown",
   "metadata": {},
   "source": [
    "b) Write tests for the function: Each test should print two lists and the result of applying *join* **to them. You might want to use the idea of generating test cases randomly. Also, make sure** that you test the case of two empty lists, the case of two lists with just one element each, and a range of other lengths."
   ]
  },
  {
   "cell_type": "code",
   "execution_count": 3,
   "metadata": {},
   "outputs": [
    {
     "name": "stdout",
     "output_type": "stream",
     "text": [
      "l1: [] \n",
      "l2: [] \n",
      "result: [] \n",
      "\n",
      "\n",
      "l1: [1] \n",
      "l2: [2] \n",
      "result: [[1, 2]] \n",
      "\n",
      "\n",
      "l1: [3, 4, 5] \n",
      "l2: [1, 2, 3] \n",
      "result: [[3, 1], [4, 2], [5, 3]] \n",
      "\n",
      "\n"
     ]
    }
   ],
   "source": [
    "def test_join():\n",
    "    test_lists = [[],[],[],[1],[2],[[1,2]],[3,4,5],[1,2,3],[[3,1],[4,2],[5,3]]]\n",
    "    for i in range(0,len(test_lists), 3):\n",
    "        l1 = test_lists[i]\n",
    "        l2 = test_lists[i+1]\n",
    "        result = join(l1,l2)\n",
    "        print(\"l1:\",l1,\"\\nl2:\",l2,\"\\nresult:\",result,\"\\n\\n\")\n",
    "        assert result == test_lists[i+2]\n",
    "        \n",
    "test_join()"
   ]
  },
  {
   "cell_type": "markdown",
   "metadata": {},
   "source": [
    "c) Write split, the opposite of join which, given a nested list where each element is itself a list of two elements, it breaks it down to two different lists."
   ]
  },
  {
   "cell_type": "code",
   "execution_count": 8,
   "metadata": {},
   "outputs": [
    {
     "name": "stdout",
     "output_type": "stream",
     "text": [
      "([3, 4, 5], [1, 2, 3])\n"
     ]
    }
   ],
   "source": [
    "#%%timeit\n",
    "def split(l):\n",
    "    return [x[0] for x in l], [x[1] for x in l]\n",
    "\n",
    "print(split([[3, 1], [4, 2], [5, 3]]))\n",
    "#split([[3, 1], [4, 2], [5, 3]]) # for timeit"
   ]
  },
  {
   "cell_type": "markdown",
   "metadata": {},
   "source": [
    "## Task 2 – Shaker Sort\n",
    "*ShakerSort* is an optimization of the BubbleSort, that performs passes in both directions (simultaneously), allowing out-of-place items to move fast across the whole list.\n",
    "\n",
    "*ShakerSort* performs the following steps:\n",
    "\n",
    "   1. Examines pairs of items, starting from the beginning of the list and performs swapping if necessary.\n",
    "   2. Examines pairs of items, starting from the end of the list and performs swapping if necessary.\n",
    "   3. Repeats the previous two steps until the list is sorted.\n",
    "\n",
    "Consider the following list: `mylist = [7,5,11,10,8]`\n",
    "Example:\n",
    " - From beginning:\n",
    "     - Examine: `mylist[0]` and `mylist[1]`, compare the contents of this pair (7 and 5): swap elements. Resulting list: `[5,7,11,10,8]`\n",
    "     - Examine: `mylist[1]` and `mylist[2]`, compare the contents of this pair (7 and 11): do not swap elements.\n",
    "     - Examine: `mylist[2]` and `mylist[3]`, compare the contents of this pair (11 and 10): swap elements. Resulting list: `[5,7,10,11,8]`\n",
    "     - Examine: `mylist[3]` and `mylist[4]`, compare the contents of this pair (11 and 8): swap elements. Resulting list: `[5,7,10,8,11]`\n",
    " - From end:\n",
    "     - Examine: `mylist[4]` and `mylist[3]`, compare the contents of this pair (11 and 8): do not swap elements.\n",
    "     - Examine: `mylist[3]` and `mylist[2]`, compare the contents of this pair (8 and 10): swap contents. Resulting list: `[5,7,8,10,11]`\n",
    "\n",
    "        Repeat until list is sorted.\n",
    "        \n",
    "Write a method *ShakerSort* to implement this algorithm. Make sure it works for the following:\n",
    "```\n",
    "mylist1 = [2, 6, 8, 1, 7, 9, 4, 3, 5]\n",
    "mylist2 = [10, 11, 3, 2, 5, 8, 1]\n",
    "mylist3 = [10, 3, 2, 5, 8, 1]\n",
    "```"
   ]
  },
  {
   "cell_type": "code",
   "execution_count": 3,
   "metadata": {},
   "outputs": [
    {
     "name": "stdout",
     "output_type": "stream",
     "text": [
      "[1, 2, 3, 4, 5, 6, 7, 8, 9]\n",
      "[1, 2, 3, 5, 8, 10, 11]\n",
      "[1, 2, 3, 5, 8, 10]\n",
      "[1, 2, 3, 4, 5, 6, 7, 8, 9, 10]\n",
      "[1, 2, 3, 4, 5, 6, 7, 8, 9, 10]\n"
     ]
    }
   ],
   "source": [
    "#%%timeit\n",
    "def shaker_sort(l):\n",
    "    swapped = True\n",
    "    while swapped:\n",
    "        swapped = False\n",
    "        for j in range(len(l)-1):\n",
    "            if l[j] > l[j+1]:\n",
    "                l[j],l[j+1]=l[j+1],l[j]\n",
    "                swapped = True\n",
    "            if l[len(l)-j-1] < l[len(l)-j-2]:\n",
    "                l[len(l)-j-1],l[len(l)-j-2] = l[len(l)-j-2],l[len(l)-j-1]\n",
    "                swapped = True\n",
    "        if not swapped:\n",
    "            return l\n",
    "        \n",
    "l1 = [2, 6, 8, 1, 7, 9, 4, 3, 5]\n",
    "l2 = [10, 11, 3, 2, 5, 8, 1]\n",
    "l3 = [10, 3, 2, 5, 8, 1]\n",
    "l4 = [1,2,3,4,5,6,7,8,9,10]\n",
    "l5 = [10,9,8,7,6,5,4,3,2,1]\n",
    "\n",
    "print(shaker_sort(l1))\n",
    "print(shaker_sort(l2))\n",
    "print(shaker_sort(l3))\n",
    "\n",
    "print(shaker_sort(l4))\n",
    "print(shaker_sort(l5))\n",
    "\n",
    "#shaker_sort(l1)\n",
    "#shaker_sort(l2) # for timeit\n",
    "#shaker_sort(l3)"
   ]
  },
  {
   "cell_type": "markdown",
   "metadata": {},
   "source": [
    "## Task 3 – The odd-even Sort\n",
    "The *odd-even sort* algorithm is based on repeatedly making two passes on a list:\n",
    "    \n",
    "   1. The first pass examines pairs of items `a[j]`, `a[j+1]` where j is odd.\n",
    "   2. The second pass examines pairs of items `a[i]`, `a[i+1]` where i is even.\n",
    "   3. In each pass, the following occurs: if the contents of the pair being examined are unordered, then the elements are swapped.\n",
    "   4. Repeat passes until list is sorted.\n",
    "Consider the following list: `[1,7,5,2,6]`\n",
    "\n",
    "First pass\n",
    " - Start with odd position\n",
    "     - Examine a[1] and a[2], compare contents of this pair (7 and 5): swap elements. Resulting list: [1,5,7,2,6]\n",
    "      - Examine a[3] and a[4], compare contents of this pair (2 and 6): do not swap elements.\n",
    " - Start with even position\n",
    "     - Examine a[0] and a[1], compare contents of this pair (1 and 5): do not swap elements.\n",
    "     - Examine a[2] and a[3], compare contents of this pair (7 and 2): swap elements. Resulting list: [1,5,2,7,6]\n",
    "\n",
    "Repeat until list is sorted.\n",
    "\n",
    "Write a function `oddEvenSort` that implements the Odd-Even sort algorithm. Make sure it works for the following lists:\n",
    "```\n",
    "mylist1 = [2, 6, 8, 1, 7, 9, 4, 3, 5]\n",
    "mylist2 = [10, 11, 3, 2, 5, 8, 1]\n",
    "mylist3 = [10, 3, 2, 5, 8, 1]\n",
    "```"
   ]
  },
  {
   "cell_type": "code",
   "execution_count": 6,
   "metadata": {},
   "outputs": [
    {
     "name": "stdout",
     "output_type": "stream",
     "text": [
      "[1, 2, 3, 4, 5, 6, 7, 8, 9]\n",
      "[1, 2, 3, 5, 8, 10, 11]\n",
      "[1, 2, 3, 5, 8, 10]\n"
     ]
    }
   ],
   "source": [
    "#%%timeit\n",
    "def odd_even_sort(l):\n",
    "    swapped = True    \n",
    "    mod = 0\n",
    "    while swapped:\n",
    "        swapped = False\n",
    "        for i in range(mod,len(l)-1,2):\n",
    "            if l[i] > l[i+1]:\n",
    "                l[i],l[i+1] = l[i+1],l[i]\n",
    "                swapped = True\n",
    "        if mod == 0:\n",
    "            mod = 1\n",
    "        else:\n",
    "            mod = 0\n",
    "    return l\n",
    "\n",
    "l1 = [2, 6, 8, 1, 7, 9, 4, 3, 5]\n",
    "l2 = [10, 11, 3, 2, 5, 8, 1]\n",
    "l3 = [10, 3, 2, 5, 8, 1]\n",
    "\n",
    "print(odd_even_sort(l1))\n",
    "print(odd_even_sort(l2))\n",
    "print(odd_even_sort(l3))\n",
    "#odd_even_sort(l1)\n",
    "#odd_even_sort(l2) # for timeit\n",
    "#odd_even_sort(l3)"
   ]
  }
 ],
 "metadata": {
  "kernelspec": {
   "display_name": "Python 3",
   "language": "python",
   "name": "python3"
  },
  "language_info": {
   "codemirror_mode": {
    "name": "ipython",
    "version": 3
   },
   "file_extension": ".py",
   "mimetype": "text/x-python",
   "name": "python",
   "nbconvert_exporter": "python",
   "pygments_lexer": "ipython3",
   "version": "3.7.3"
  }
 },
 "nbformat": 4,
 "nbformat_minor": 2
}
