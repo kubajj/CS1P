{
 "cells": [
  {
   "cell_type": "code",
   "execution_count": 3,
   "metadata": {},
   "outputs": [
    {
     "data": {
      "text/plain": [
       "[[1, 'a'], [2, 'b'], [3, 'c']]"
      ]
     },
     "execution_count": 3,
     "metadata": {},
     "output_type": "execute_result"
    }
   ],
   "source": [
    "def join(l1, l2):\n",
    "    return [[a,l2[i]] for i,a in enumerate(l1)]\n",
    "join( [1,2,3] , [\"a\",\"b\",\"c\"] )"
   ]
  },
  {
   "cell_type": "code",
   "execution_count": 6,
   "metadata": {},
   "outputs": [
    {
     "name": "stdout",
     "output_type": "stream",
     "text": [
      "l1: [] \n",
      "l2: [] \n",
      "result: [] \n",
      "\n",
      "\n",
      "l1: [1] \n",
      "l2: [2] \n",
      "result: [[1, 2]] \n",
      "\n",
      "\n",
      "l1: [3, 4, 5] \n",
      "l2: [1, 2, 3] \n",
      "result: [[3, 1], [4, 2], [5, 3]] \n",
      "\n",
      "\n"
     ]
    }
   ],
   "source": [
    "def test_join():\n",
    "    test_lists = [[],[],[],[1],[2],[[1,2]],[3,4,5],[1,2,3],[[3,1],[4,2],[5,3]]]\n",
    "    for i in range(0,len(test_lists), 3):\n",
    "        l1 = test_lists[i]\n",
    "        l2 = test_lists[i+1]\n",
    "        result = join(l1,l2)\n",
    "        print(\"l1:\",l1,\"\\nl2:\",l2,\"\\nresult:\",result,\"\\n\\n\")\n",
    "        assert result == test_lists[i+2]\n",
    "        \n",
    "test_join()"
   ]
  },
  {
   "cell_type": "code",
   "execution_count": 9,
   "metadata": {},
   "outputs": [
    {
     "name": "stdout",
     "output_type": "stream",
     "text": [
      "1.28 µs ± 6.74 ns per loop (mean ± std. dev. of 7 runs, 1000000 loops each)\n"
     ]
    }
   ],
   "source": [
    "%%timeit\n",
    "def split(l):\n",
    "    return [x[0] for x in l], [x[1] for x in l]\n",
    "\n",
    "split([[3, 1], [4, 2], [5, 3]])"
   ]
  },
  {
   "cell_type": "code",
   "execution_count": 23,
   "metadata": {},
   "outputs": [
    {
     "name": "stdout",
     "output_type": "stream",
     "text": [
      "41.7 µs ± 843 ns per loop (mean ± std. dev. of 7 runs, 10000 loops each)\n"
     ]
    }
   ],
   "source": [
    "%%timeit\n",
    "def shaker_sort(l):\n",
    "    swapped = True\n",
    "    while swapped:\n",
    "        swapped = False\n",
    "        for j in range(len(l)-1):\n",
    "            if l[j] > l[j+1]:\n",
    "                l[j],l[j+1]=l[j+1],l[j]\n",
    "                swapped = True\n",
    "            if l[len(l)-j-1] < l[len(l)-j-2]:\n",
    "                l[len(l)-j-1],l[len(l)-j-2] = l[len(l)-j-2],l[len(l)-j-1]\n",
    "                swapped = True\n",
    "        if not swapped:\n",
    "            return l\n",
    "        \n",
    "l1 = [2, 6, 8, 1, 7, 9, 4, 3, 5]\n",
    "l2 = [10, 11, 3, 2, 5, 8, 1]\n",
    "l3 = [10, 3, 2, 5, 8, 1]\n",
    "\n",
    "#print(shaker_sort(l1))\n",
    "#print(shaker_sort(l2))\n",
    "#print(shaker_sort(l3))\n",
    "\n",
    "shaker_sort(l1)\n",
    "shaker_sort(l2)\n",
    "shaker_sort(l3)"
   ]
  },
  {
   "cell_type": "code",
   "execution_count": 21,
   "metadata": {},
   "outputs": [
    {
     "name": "stdout",
     "output_type": "stream",
     "text": [
      "26.1 µs ± 846 ns per loop (mean ± std. dev. of 7 runs, 10000 loops each)\n"
     ]
    }
   ],
   "source": [
    "%%timeit\n",
    "def odd_even_sort(l):\n",
    "    swapped = True    \n",
    "    mod = 0\n",
    "    while swapped:\n",
    "        swapped = False\n",
    "        for i in range(mod,len(l)-1,2):\n",
    "            if l[i] > l[i+1]:\n",
    "                l[i],l[i+1] = l[i+1],l[i]\n",
    "                swapped = True\n",
    "        if mod == 0:\n",
    "            mod = 1\n",
    "        else:\n",
    "            mod = 0\n",
    "    return l\n",
    "\n",
    "l1 = [2, 6, 8, 1, 7, 9, 4, 3, 5]\n",
    "l2 = [10, 11, 3, 2, 5, 8, 1]\n",
    "l3 = [10, 3, 2, 5, 8, 1]\n",
    "\n",
    "#print(odd_even_sort(l1))\n",
    "#print(odd_even_sort(l2))\n",
    "#print(odd_even_sort(l3))\n",
    "odd_even_sort(l1)\n",
    "odd_even_sort(l2)\n",
    "odd_even_sort(l3)"
   ]
  }
 ],
 "metadata": {
  "kernelspec": {
   "display_name": "Python 3",
   "language": "python",
   "name": "python3"
  },
  "language_info": {
   "codemirror_mode": {
    "name": "ipython",
    "version": 3
   },
   "file_extension": ".py",
   "mimetype": "text/x-python",
   "name": "python",
   "nbconvert_exporter": "python",
   "pygments_lexer": "ipython3",
   "version": "3.8.1"
  }
 },
 "nbformat": 4,
 "nbformat_minor": 2
}
