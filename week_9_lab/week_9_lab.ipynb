{
 "cells": [
  {
   "cell_type": "markdown",
   "metadata": {},
   "source": [
    "# Week 9 : Lab \n",
    " ## Functional: Recursion, comprehensions and first-class functions\n",
    "##### CS1P - University of Glasgow - John Williamson - 2019/2020"
   ]
  },
  {
   "cell_type": "markdown",
   "metadata": {},
   "source": []
  },
  {
   "cell_type": "code",
   "execution_count": 1,
   "metadata": {},
   "outputs": [],
   "source": [
    "from utils import tick"
   ]
  },
  {
   "cell_type": "markdown",
   "metadata": {},
   "source": [
    "\n",
    "## Optional lab exercise\n",
    "**This is an <font color=\"red\">optional</font> exercise. You do not have to attempt any of this lab. Attempt this only if you are completely finished preparing for the lab exam.**\n",
    "\n",
    "There is only an A part to this lab, but the questions are harder than previous A parts.\n"
   ]
  },
  {
   "cell_type": "markdown",
   "metadata": {},
   "source": [
    "\n",
    "## Purpose of this lab\n",
    "This lab will get you up to speed on:\n",
    "* Using comprehensions\n",
    "* Using closures\n",
    "* Recursive solutions to problems\n",
    "* Functional approaches to solving programming problems.\n",
    "* Higher-order functions\n",
    "\n"
   ]
  },
  {
   "cell_type": "markdown",
   "metadata": {},
   "source": [
    "## A. Quick problems\n",
    "\n",
    "### A.1 Checkerboard\n",
    "A square checkerboard pattern of size 4 looks like this:\n",
    "\n",
    "        ◯ ⚫ ◯ ⚫\n",
    "        ⚫ ◯ ⚫ ◯\n",
    "        ◯ ⚫ ◯ ⚫\n",
    "        ⚫ ◯ ⚫ ◯\n",
    "    \n",
    "Using comprehensions write *one line of code -- a single statement* that prints such a checkerboard of size 8. Hint: you might want to use `join`.\n",
    "\n",
    "Note that the circles are just ordinary characters. You can copy and paste them into your code."
   ]
  },
  {
   "cell_type": "code",
   "execution_count": 2,
   "metadata": {},
   "outputs": [
    {
     "name": "stdout",
     "output_type": "stream",
     "text": [
      "◯⚫◯⚫◯⚫◯⚫\n",
      "⚫◯⚫◯⚫◯⚫◯\n",
      "◯⚫◯⚫◯⚫◯⚫\n",
      "⚫◯⚫◯⚫◯⚫◯\n",
      "◯⚫◯⚫◯⚫◯⚫\n",
      "⚫◯⚫◯⚫◯⚫◯\n",
      "◯⚫◯⚫◯⚫◯⚫\n",
      "⚫◯⚫◯⚫◯⚫◯\n"
     ]
    }
   ],
   "source": [
    "# Solution goes here\n",
    "print(\"\\n\".join([\"\".join([\"◯\" if j%2==0 else \"⚫\" for j in range(8)]) if i%2==0 else \"\".join([\"⚫\" if k%2==0 else \"◯\" for k in range(8)]) for i in range(8)]))"
   ]
  },
  {
   "cell_type": "markdown",
   "metadata": {},
   "source": [
    "Extend this to write a function `checkerboard(n, on, off)` which takes the size of the (square) checkerboard `n` and the symbols to use as `on` and `off`, defaulting to the `◯` and `⚫` used above. This should **return** the string, and not print it out."
   ]
  },
  {
   "cell_type": "code",
   "execution_count": 3,
   "metadata": {},
   "outputs": [],
   "source": [
    "# Solution goes here\n",
    "def checkerboard(n,on=\"◯\",off=\"⚫\"):\n",
    "    return \"\\n\".join([\" \".join([on if j%2==0 else off for j in range(n)]) if i%2==0 else \" \".join([off if k%2==0 else on for k in range(n)]) for i in range(n)])"
   ]
  },
  {
   "cell_type": "code",
   "execution_count": 4,
   "metadata": {},
   "outputs": [
    {
     "data": {
      "text/html": [
       " \n",
       "        <div class=\"alert alert-box alert-success\">\n",
       "        <h1> <font color=\"green\"> ✓ Correct </font> </h1>\n",
       "        </div>\n",
       "        "
      ],
      "text/plain": [
       "<IPython.core.display.HTML object>"
      ]
     },
     "metadata": {},
     "output_type": "display_data"
    }
   ],
   "source": [
    "## Tests\n",
    "from textwrap import dedent\n",
    "\n",
    "with tick.tick():\n",
    "    assert checkerboard(3) == dedent(\"\"\"\n",
    "    ◯ ⚫ ◯\n",
    "    ⚫ ◯ ⚫\n",
    "    ◯ ⚫ ◯\n",
    "    \"\"\").strip()\n",
    "\n",
    "    assert checkerboard(3, 'o', 'x') ==dedent(\"\"\"\n",
    "    o x o\n",
    "    x o x\n",
    "    o x o\n",
    "    \"\"\").strip()\n",
    "\n",
    "    # is it cursed?\n",
    "    assert checkerboard(7, \"🦉\", \"💍\")==dedent(\"\"\"\n",
    "    🦉 💍 🦉 💍 🦉 💍 🦉\n",
    "    💍 🦉 💍 🦉 💍 🦉 💍\n",
    "    🦉 💍 🦉 💍 🦉 💍 🦉\n",
    "    💍 🦉 💍 🦉 💍 🦉 💍\n",
    "    🦉 💍 🦉 💍 🦉 💍 🦉\n",
    "    💍 🦉 💍 🦉 💍 🦉 💍\n",
    "    🦉 💍 🦉 💍 🦉 💍 🦉\n",
    "    \"\"\").strip()\n",
    "\n",
    "    assert checkerboard(4, \"⍝\", \"⌾\")  == dedent(\"\"\"\n",
    "    ⍝ ⌾ ⍝ ⌾\n",
    "    ⌾ ⍝ ⌾ ⍝\n",
    "    ⍝ ⌾ ⍝ ⌾\n",
    "    ⌾ ⍝ ⌾ ⍝\n",
    "    \"\"\").strip()"
   ]
  },
  {
   "cell_type": "markdown",
   "metadata": {},
   "source": [
    "### A.2 Recursive dot product\n",
    "Write a function `dot(a,b)` which takes two lists `a` and `b` of equal length, and computes the dot product; that is the sum of the elementwise product of each element from `a` and `b`. For example `dot([0,1,2], [3,4,5]) = 0*3 + 1*4 + 2*5 = 14`.\n",
    "\n",
    "Write this **recursively** without using `for`, `while` or any `comprehensions`, or any numerical arrays."
   ]
  },
  {
   "cell_type": "code",
   "execution_count": 5,
   "metadata": {},
   "outputs": [
    {
     "data": {
      "text/plain": [
       "4"
      ]
     },
     "execution_count": 5,
     "metadata": {},
     "output_type": "execute_result"
    }
   ],
   "source": [
    "# Solution goes here\n",
    "def dot(a,b, ix=0):\n",
    "    min = len(a) if len(a) <= len(b) else len(b)\n",
    "    if ix == min:\n",
    "        return 0\n",
    "    else:\n",
    "        return a[ix]*b[ix]+dot(a,b,ix+1)\n",
    "dot([0,1,2,6], [3,4])"
   ]
  },
  {
   "cell_type": "code",
   "execution_count": 6,
   "metadata": {},
   "outputs": [
    {
     "data": {
      "text/html": [
       " \n",
       "        <div class=\"alert alert-box alert-success\">\n",
       "        <h1> <font color=\"green\"> ✓ Correct </font> </h1>\n",
       "        </div>\n",
       "        "
      ],
      "text/plain": [
       "<IPython.core.display.HTML object>"
      ]
     },
     "metadata": {},
     "output_type": "display_data"
    }
   ],
   "source": [
    "with tick.tick():\n",
    "    assert(dot([0,1,2], [3,4,5])==14)\n",
    "    assert(dot([0,-1,2], [3,4,5])==6)\n",
    "    assert(dot([], [])==0)\n",
    "    assert(dot([1], [8])==8)\n",
    "    assert(dot([0,1,2,5], [3,4,5,9])==59)"
   ]
  },
  {
   "cell_type": "markdown",
   "metadata": {},
   "source": [
    "### A.3 Accumulate\n",
    "\n",
    "Write a function `accumulate(fn, seq)` that does an operation similar to `reduce`, in that it puts a function \"in between\" consecutive elements of a list, but unlike `reduce` keeps all of the intermediate results. \n",
    "\n",
    "For example\n",
    "\n",
    "    accumulate + 1 2 3 4\n",
    "    = 1  \n",
    "      ⇓  \n",
    "      1 + 2  3  4        \n",
    "        ⇓  \n",
    "        3 + 3  4           \n",
    "          ⇓ \n",
    "          6 + 4\n",
    "            ⇓ \n",
    "            10\n",
    "             \n",
    "     = [1,3,6,10]\n",
    "\n",
    "This means that the accumulation of a sequence with addition produces the cumulative sum (or running total) instead of the sum, as `reduce` would. The accumulation of a sequence with the max function produces the running maximum.\n",
    "\n",
    "* `accumulate(lambda x,y:x+y, [1,2,3,4])` would return `[1, 1+2, 1+2+3, 1+2+3+4]` = `[1,3,6,10]`\n",
    "* `accumulate(max, [1,4,3,9, 2])` would return `[1, 4, 4, 9, 9]`\n",
    "\n",
    "The accumulation of the empty list is the empty list.\n",
    "\n",
    "You could write this recursively or using ordinary iteration.\n"
   ]
  },
  {
   "cell_type": "code",
   "execution_count": 7,
   "metadata": {},
   "outputs": [],
   "source": [
    "# Solution goes here\n",
    "#ordinary\n",
    "def accumulate(fn, seq):\n",
    "    results = []\n",
    "    for i,elt in enumerate(seq):\n",
    "        if i == 0:\n",
    "            results.append(elt)\n",
    "        else:\n",
    "            results.append(fn(results[i-1],elt))        \n",
    "    return results"
   ]
  },
  {
   "cell_type": "code",
   "execution_count": 8,
   "metadata": {},
   "outputs": [
    {
     "data": {
      "text/html": [
       " \n",
       "        <div class=\"alert alert-box alert-success\">\n",
       "        <h1> <font color=\"green\"> ✓ Correct </font> </h1>\n",
       "        </div>\n",
       "        "
      ],
      "text/plain": [
       "<IPython.core.display.HTML object>"
      ]
     },
     "metadata": {},
     "output_type": "display_data"
    }
   ],
   "source": [
    "## Tests\n",
    "with tick.tick():\n",
    "    assert(accumulate(lambda x,y:x+y, [1,2,3])==[1,3,6])\n",
    "    assert(accumulate(lambda x,y:x-y, [1,2,3])==[1,-1,-4])\n",
    "    assert(accumulate(max, [1,4,3,9,2])==[1,4,4,9,9])\n",
    "    assert(accumulate(max, [])==[])\n",
    "    assert(accumulate(max, [1])==[1])  "
   ]
  },
  {
   "cell_type": "markdown",
   "metadata": {},
   "source": [
    "### A.4 Collatz closure\n",
    "Write a function `collatz(n)` which when called *returns a new function*. Each time the returned function is called it computes the update\n",
    "\n",
    "* `n = 3 * n + 1` if `n` is odd \n",
    "* `n = n // 2` if n is even \n",
    "\n",
    "and returns the *previous* value `n`. Calling the function multiple times will return different values, and should iterate through this sequence using these rules -- see the test below for how this might work. Do not use any form of global variable."
   ]
  },
  {
   "cell_type": "code",
   "execution_count": 9,
   "metadata": {},
   "outputs": [],
   "source": [
    "# Solution goes here\n",
    "def collatz(n):\n",
    "    num = n\n",
    "    def ret_fun():\n",
    "        nonlocal num\n",
    "        prev = num\n",
    "        num = 3*num+1 if not num%2 == 0 else num//2\n",
    "        return prev\n",
    "    return ret_fun"
   ]
  },
  {
   "cell_type": "code",
   "execution_count": 10,
   "metadata": {},
   "outputs": [
    {
     "data": {
      "text/html": [
       " \n",
       "        <div class=\"alert alert-box alert-success\">\n",
       "        <h1> <font color=\"green\"> ✓ Correct </font> </h1>\n",
       "        </div>\n",
       "        "
      ],
      "text/plain": [
       "<IPython.core.display.HTML object>"
      ]
     },
     "metadata": {},
     "output_type": "display_data"
    }
   ],
   "source": [
    "## Test\n",
    "with tick.tick():\n",
    "    fn = collatz(241)\n",
    "    seq = [fn() for i in range(22)]\n",
    "    assert(seq==[241, 724, 362, 181, 544, 272, 136, 68, 34, 17, 52, 26, 13, 40, 20, 10, 5, 16, 8, 4, 2, 1])"
   ]
  },
  {
   "cell_type": "markdown",
   "metadata": {},
   "source": [
    "### A.5 Length of strings\n",
    "Write a function `len_not_a()`, which takes a list of strings, and returns a list of the length of each of the strings, *except* if the string contains a character \"a\", in which case the length should be omitted entirely from the returned list.\n",
    "\n",
    "For example, `[\"cat\", \"dog\", \"fifteen\"]` should become [3, 7] (`\"cat\"` is omitted from the returned list)\n",
    "    \n",
    "Use a comprehension. **Do not use a for or while loop.**"
   ]
  },
  {
   "cell_type": "code",
   "execution_count": 11,
   "metadata": {},
   "outputs": [],
   "source": [
    "# Solution goes here\n",
    "def len_not_a(l):\n",
    "    return [len(s) for s in l if not \"a\" in s]"
   ]
  },
  {
   "cell_type": "code",
   "execution_count": 12,
   "metadata": {},
   "outputs": [
    {
     "data": {
      "text/html": [
       " \n",
       "        <div class=\"alert alert-box alert-success\">\n",
       "        <h1> <font color=\"green\"> ✓ Correct </font> </h1>\n",
       "        </div>\n",
       "        "
      ],
      "text/plain": [
       "<IPython.core.display.HTML object>"
      ]
     },
     "metadata": {},
     "output_type": "display_data"
    }
   ],
   "source": [
    "## Tests\n",
    "with tick.tick():\n",
    "    assert(len_not_a([])==[])\n",
    "    assert(len_not_a([\"cat\", \"dog\", \"fifteen\"])==[3,7])\n",
    "    assert(len_not_a([\"cat\", \"dog\", \"cat\", \"fiftaan\"])==[3])\n",
    "    assert(len_not_a([\"b\", \"a\", \"a\", \"a\"])==[1])\n",
    "    assert(len_not_a([\"b\", \"ar\", \"ra\", \"ar\", 'dly'])==[1, 3])"
   ]
  },
  {
   "cell_type": "markdown",
   "metadata": {},
   "source": [
    "## A.6 Comprehensify\n",
    "\n",
    "There are three loops below written using a standard `for` loop. Rewrite them as a single comprehension inside a `print()` call. Your comprehension version should behave exactly the same as the original code.\n"
   ]
  },
  {
   "cell_type": "code",
   "execution_count": 13,
   "metadata": {},
   "outputs": [],
   "source": [
    "# This code sets up the data we will use\n",
    "# run this cell first\n",
    "metals = [\"silver\", \"bronze\", \n",
    "          \"steel\", \"gold\", \n",
    "          \"chrome\", \"lead\",\n",
    "          \"copper\", \"aluminium\"]"
   ]
  },
  {
   "cell_type": "code",
   "execution_count": 14,
   "metadata": {},
   "outputs": [
    {
     "name": "stdout",
     "output_type": "stream",
     "text": [
      "[0, 1, 4, 9, 16, 25, 36, 49, 64, 81]\n"
     ]
    }
   ],
   "source": [
    "# A.2.1\n",
    "squares = []\n",
    "for i in range(10):\n",
    "    squares.append(i*i)\n",
    "print(squares)"
   ]
  },
  {
   "cell_type": "code",
   "execution_count": 15,
   "metadata": {},
   "outputs": [
    {
     "name": "stdout",
     "output_type": "stream",
     "text": [
      "[0, 1, 4, 9, 16, 25, 36, 49, 64, 81]\n"
     ]
    }
   ],
   "source": [
    "# Solution goes here\n",
    "print([i*i for i in range(10)])"
   ]
  },
  {
   "cell_type": "code",
   "execution_count": 16,
   "metadata": {},
   "outputs": [
    {
     "name": "stdout",
     "output_type": "stream",
     "text": [
      "Bronze spoon\n",
      "Chrome spoon\n",
      "Copper spoon\n",
      "Gold spoon\n",
      "Lead spoon\n",
      "Silver spoon\n",
      "Steel spoon\n"
     ]
    }
   ],
   "source": [
    "# A.2.2\n",
    "metals_sorted = sorted(metals)\n",
    "metals_list = []\n",
    "for metal in metals_sorted:\n",
    "    if \"ium\" not in metal:        \n",
    "        new_title = metal.title()+\" spoon\"\n",
    "        metals_list.append(new_title)\n",
    "for metal in metals_list:\n",
    "    print(metal)"
   ]
  },
  {
   "cell_type": "code",
   "execution_count": 17,
   "metadata": {},
   "outputs": [
    {
     "name": "stdout",
     "output_type": "stream",
     "text": [
      "Bronze spoon\n",
      "Chrome spoon\n",
      "Copper spoon\n",
      "Gold spoon\n",
      "Lead spoon\n",
      "Silver spoon\n",
      "Steel spoon\n"
     ]
    }
   ],
   "source": [
    "# Solution goes here\n",
    "print(\"\\n\".join([m.title()+\" spoon\" for m in sorted(metals) if \"ium\" not in m]))"
   ]
  },
  {
   "cell_type": "code",
   "execution_count": 18,
   "metadata": {},
   "outputs": [
    {
     "name": "stdout",
     "output_type": "stream",
     "text": [
      "{'silver': 2, 'bronze': 2, 'steel': 2, 'gold': 1, 'chrome': 2, 'lead': 2, 'copper': 2, 'aluminium': 5}\n"
     ]
    }
   ],
   "source": [
    "# A.2.3\n",
    "# This one is trickier, but still defintely doable.\n",
    "# If you struggle, move on and do the next problem.\n",
    "\n",
    "# Dictionary mapping metal names to number of vowels in\n",
    "# that name\n",
    "metal_vowels = {}\n",
    "for metal in metals:\n",
    "    vowels = 0\n",
    "    for char in metal:\n",
    "        if char in 'aeiou':\n",
    "            vowels += 1\n",
    "    metal_vowels[metal] = vowels\n",
    "        \n",
    "print(metal_vowels)"
   ]
  },
  {
   "cell_type": "code",
   "execution_count": 19,
   "metadata": {},
   "outputs": [
    {
     "name": "stdout",
     "output_type": "stream",
     "text": [
      "{'silver': 2, 'bronze': 2, 'steel': 2, 'gold': 1, 'chrome': 2, 'lead': 2, 'copper': 2, 'aluminium': 5}\n"
     ]
    }
   ],
   "source": [
    "# Solution goes here\n",
    "print({m:len([ch for ch in m if ch in 'aeiou']) for m in metals})"
   ]
  },
  {
   "cell_type": "markdown",
   "metadata": {},
   "source": [
    "### A.7 Using *\n",
    "Python functions can take a variable number of arguments. If we write a function like below, with a *single* parameter beginning with `*` the parameter will be a *list* of the arguments passed.  [See here for more details](https://www.saltycrane.com/blog/2008/01/how-to-use-args-and-kwargs-in-python/)"
   ]
  },
  {
   "cell_type": "code",
   "execution_count": 20,
   "metadata": {
    "scrolled": true
   },
   "outputs": [
    {
     "name": "stdout",
     "output_type": "stream",
     "text": [
      "I was called with 1 arguments\n",
      "\t 1\n",
      "\n",
      "I was called with 2 arguments\n",
      "\t hey\n",
      "\t there\n",
      "\n",
      "I was called with 3 arguments\n",
      "\t [1, 2, 3]\n",
      "\t [4, 5, 6]\n",
      "\t oomf\n",
      "\n"
     ]
    }
   ],
   "source": [
    "def multi(*args): # args will be a list\n",
    "    print(\"I was called with {n} arguments\".format(n=len(args)))\n",
    "    for arg in args:\n",
    "        print(\"\\t\", arg)\n",
    "    print()\n",
    "    \n",
    "multi(1)\n",
    "multi(\"hey\", \"there\")\n",
    "multi([1,2,3], [4,5,6], 'oomf')"
   ]
  },
  {
   "cell_type": "markdown",
   "metadata": {},
   "source": [
    "Likewise, we can pass a *list* of arguments to any function if we use the `*` symbol (the \"splat\" operator) in the argument list. This operation is called **apply** in other languages. It applies the function to a sequence of arguments:"
   ]
  },
  {
   "cell_type": "code",
   "execution_count": 21,
   "metadata": {},
   "outputs": [],
   "source": [
    "def print_sum(a,b):\n",
    "    print(a+b)\n",
    "    "
   ]
  },
  {
   "cell_type": "code",
   "execution_count": 22,
   "metadata": {},
   "outputs": [
    {
     "name": "stdout",
     "output_type": "stream",
     "text": [
      "9\n"
     ]
    }
   ],
   "source": [
    "print_sum(4,5)"
   ]
  },
  {
   "cell_type": "code",
   "execution_count": 23,
   "metadata": {
    "scrolled": true
   },
   "outputs": [
    {
     "name": "stdout",
     "output_type": "stream",
     "text": [
      "9\n"
     ]
    }
   ],
   "source": [
    "# exactly the same as before\n",
    "print_sum(*[4,5]) # call with a list"
   ]
  },
  {
   "cell_type": "code",
   "execution_count": 24,
   "metadata": {},
   "outputs": [
    {
     "name": "stdout",
     "output_type": "stream",
     "text": [
      "11\n"
     ]
    }
   ],
   "source": [
    "a  = [2,9]\n",
    "print_sum(*a) # call with a list in a variable"
   ]
  },
  {
   "cell_type": "code",
   "execution_count": null,
   "metadata": {},
   "outputs": [],
   "source": [
    "bad = [1,2,3]\n",
    "print_sum(*bad) # this will cause an error; too many arguments"
   ]
  },
  {
   "cell_type": "markdown",
   "metadata": {},
   "source": [
    "\n",
    "Write a function `backwards(fn)` that \"wraps\" a function to reverse the order of the arguments `fn` will receive. `backwards` takes a function returns *a new function* which will work the same as `fn` but will receive the arguments in reverse order. "
   ]
  },
  {
   "cell_type": "code",
   "execution_count": 26,
   "metadata": {},
   "outputs": [
    {
     "name": "stdout",
     "output_type": "stream",
     "text": [
      "alpha bravo charlie\n",
      "-5\n"
     ]
    }
   ],
   "source": [
    "def space_join(*args):\n",
    "    return \" \".join(args)\n",
    "\n",
    "def sub(a,b):\n",
    "    return a-b\n",
    "\n",
    "print(space_join(\"alpha\", \"bravo\", \"charlie\"))\n",
    "print(sub(5,10))"
   ]
  },
  {
   "cell_type": "code",
   "execution_count": 27,
   "metadata": {},
   "outputs": [],
   "source": [
    "# Solution goes here\n",
    "def backwards(fn):\n",
    "    def back(*args):\n",
    "        return fn(*args[::-1])\n",
    "    return back"
   ]
  },
  {
   "cell_type": "code",
   "execution_count": 28,
   "metadata": {},
   "outputs": [
    {
     "data": {
      "text/html": [
       " \n",
       "        <div class=\"alert alert-box alert-success\">\n",
       "        <h1> <font color=\"green\"> ✓ Correct </font> </h1>\n",
       "        </div>\n",
       "        "
      ],
      "text/plain": [
       "<IPython.core.display.HTML object>"
      ]
     },
     "metadata": {},
     "output_type": "display_data"
    }
   ],
   "source": [
    "## Tests\n",
    "with tick.tick():\n",
    "    backwards_join = backwards(space_join)\n",
    "    assert(backwards_join(\"alpha\", \"bravo\", \"charlie\")==\"charlie bravo alpha\")\n",
    "    backwards_sub = backwards(sub)\n",
    "    assert(backwards_sub(5, 10)==5)"
   ]
  },
  {
   "cell_type": "markdown",
   "metadata": {},
   "source": [
    "## A.8 Getting closure\n",
    "Write a function called `make_storybot(name)`. It should *return* a function which takes no arguments. Each time the *returned function* is called, a different message should be printed out, which tells a short story in sequence. \n",
    "\n",
    "The messages printed out on each call, should be as follows, assuming `name` was `John` when `make_storybot()` was called:\n",
    "\n",
    "    (first call)   \"Once upon a time.\"\n",
    "    (second call)  \"There was someone known as John.\"\n",
    "    (third call)   \"John lived in the distant mountains.\"\n",
    "    (fourth call)  \"And ate seagulls.\"\n",
    "    (fifth call)   \"John did not enjoy eating seagulls.\"\n",
    "    (sixth call)   \"What are seagulls?\"\n",
    "    (seventh and all subsequent calls) \"We just don't know.\"\n",
    "    \n",
    "Do **not** use any global variables. Use a closure to implement this function.    \n",
    "*Feel free to adapt the story to a more uplifting one if you so desire.*\n"
   ]
  },
  {
   "cell_type": "code",
   "execution_count": 29,
   "metadata": {},
   "outputs": [],
   "source": [
    "# Solution goes here\n",
    "def make_storybot(name):\n",
    "    c = -1\n",
    "    def chat():\n",
    "        l = [\"Once upon a time.\",\n",
    "             \"There was someone known as {n}.\".format(n=name),\n",
    "             \"{n} lived in the distant mountains.\".format(n=name),\n",
    "             \"And ate seagulls.\",\n",
    "             \"{n} did not enjoy eating seagulls.\".format(n=name),\n",
    "             \"What are seagulls?\",\n",
    "             \"We just don't know.\"\n",
    "            ]\n",
    "        nonlocal c\n",
    "        if c < len(l)-1:\n",
    "            c += 1\n",
    "        print(l[c])\n",
    "    return chat"
   ]
  },
  {
   "cell_type": "code",
   "execution_count": 30,
   "metadata": {},
   "outputs": [
    {
     "name": "stdout",
     "output_type": "stream",
     "text": [
      "Once upon a time.\n",
      "There was someone known as John.\n",
      "John lived in the distant mountains.\n",
      "And ate seagulls.\n",
      "John did not enjoy eating seagulls.\n",
      "What are seagulls?\n",
      "We just don't know.\n",
      "We just don't know.\n",
      "We just don't know.\n"
     ]
    }
   ],
   "source": [
    "## Test\n",
    "name = 'John' # put your name here\n",
    "chatter = make_storybot(name)\n",
    "\n",
    "# these should print out different messages, as above\n",
    "chatter()\n",
    "chatter()\n",
    "chatter()\n",
    "chatter()\n",
    "chatter()\n",
    "chatter()\n",
    "chatter()\n",
    "chatter()\n",
    "chatter()\n",
    "\n"
   ]
  },
  {
   "cell_type": "markdown",
   "metadata": {},
   "source": [
    "The output for the test above should look like:\n",
    "    \n",
    "        Once upon a time.\n",
    "        There was someone known as John.\n",
    "        John lived in the distant mountains.\n",
    "        And ate seagulls.\n",
    "        John did not enjoy eating seagulls.\n",
    "        What are seagulls?\n",
    "        We just don't know.\n",
    "        We just don't know.\n",
    "        We just don't know.\n",
    "        \n",
    "But with the correct name substituted in.        "
   ]
  },
  {
   "cell_type": "markdown",
   "metadata": {},
   "source": [
    "## A.9 List transpose\n",
    "Write a function `transpose(l)` that takes a matrix *represented as a list of tuples* (**NOT as NumPy array**) and transposes it; that is exchanges rows and columns. Hint: `zip` and `*args` are useful here.\n",
    "\n",
    "`[[1,2,3], [4,5,6], [7,8,9]]` should become `[[1,4,7], [2,5,8], [3,6,9]]` when transposed. Your function should also work for non-square arrays, where rows and columns are *not* equal. `[[1,2], [3,4], [5,6], [7,8]]` should become \n",
    "`[[1,3,5,7], [2,4,6,8]]` when transposed."
   ]
  },
  {
   "cell_type": "code",
   "execution_count": 45,
   "metadata": {},
   "outputs": [],
   "source": [
    "# Solution goes here\n",
    "def transpose(l):\n",
    "     return [list(i) for i in zip(*l)]"
   ]
  },
  {
   "cell_type": "code",
   "execution_count": 44,
   "metadata": {},
   "outputs": [
    {
     "data": {
      "text/html": [
       " \n",
       "        <div class=\"alert alert-box alert-success\">\n",
       "        <h1> <font color=\"green\"> ✓ Correct </font> </h1>\n",
       "        </div>\n",
       "        "
      ],
      "text/plain": [
       "<IPython.core.display.HTML object>"
      ]
     },
     "metadata": {},
     "output_type": "display_data"
    }
   ],
   "source": [
    "## Tests\n",
    "with tick.tick():\n",
    "    assert(transpose([[1,2,3], [4,5,6], [7,8,9]])==[[1,4,7], [2,5,8], [3,6,9]])\n",
    "    assert(transpose([[1,2], [3,4], [5,6], [7,8]])==[[1,3,5,7], [2,4,6,8]])\n",
    "    assert(transpose([])==[])"
   ]
  },
  {
   "cell_type": "markdown",
   "metadata": {},
   "source": [
    "## A.10 Currying\n",
    "A function can be **curried** to convert it from a multi-parameter function `f(a,b,c,...)` into a single parameter function `g(x)`. Curry does not refer to the Indian style of cooking, but to the influential computer scientist **Haskell Curry**.\n",
    "<img src=\"imgs/HaskellBCurry.jpg\">\n",
    "*[Image: Haskell B. Curry]*\n",
    "\n",
    "The single parameter function has to be called multiple times to pass each of the arguments in turn. Only after *all* of its parameters are ready is the function executed and its value returned. This can be useful in reasoning about the behaviour of programs, because *every* function call can then be reduced to a sequence of single argument calls.\n",
    "\n",
    "Imagine this function:"
   ]
  },
  {
   "cell_type": "code",
   "execution_count": 33,
   "metadata": {},
   "outputs": [],
   "source": [
    "def mul_and_add(a,b,c):\n",
    "    return a * b + c"
   ]
  },
  {
   "cell_type": "markdown",
   "metadata": {},
   "source": [
    "This can be called in the normal way like this:"
   ]
  },
  {
   "cell_type": "code",
   "execution_count": 34,
   "metadata": {},
   "outputs": [
    {
     "data": {
      "text/plain": [
       "10"
      ]
     },
     "execution_count": 34,
     "metadata": {},
     "output_type": "execute_result"
    }
   ],
   "source": [
    "mul_and_add(2,3,4)"
   ]
  },
  {
   "cell_type": "markdown",
   "metadata": {},
   "source": [
    "The **curried** version would be called like this:\n",
    "\n",
    "    curried_mul_and_add(2)\n",
    "    curried_mul_and_add(3)\n",
    "    curried_mul_and_add(4) # returns 2 * 3 + 4\n",
    "    \n",
    "Only the **last** call would do the computation and return the result (the other calls would return None). Calling again would reset the cycle back to the start:\n",
    "\n",
    "    curried_mul_and_add(4)\n",
    "    curried_mul_and_add(5)\n",
    "    curried_mul_and_add(6)  # this would return the result of 4*5 + 6\n",
    "\n",
    "### Task\n",
    "Write a function `curry(fn, n)` that will curry *any* function in this way. `n` should specify the number of expected arguments to `fn` \n",
    "\n",
    "    curried_mul_and_add = curry(mul_and_add, 3)\n",
    "    \n",
    "should produce a function like the one described above.\n",
    "    \n"
   ]
  },
  {
   "cell_type": "code",
   "execution_count": 35,
   "metadata": {},
   "outputs": [],
   "source": [
    "# Solution goes here\n",
    "def curry(fn, n):\n",
    "    args = []\n",
    "    ctr = 0\n",
    "    def do(i):\n",
    "        nonlocal ctr\n",
    "        nonlocal args\n",
    "        ctr += 1\n",
    "        args.append(i)\n",
    "        if ctr == n:\n",
    "            res = fn(*args)\n",
    "            args = []\n",
    "            ctr = 0\n",
    "            return res\n",
    "    return do"
   ]
  },
  {
   "cell_type": "code",
   "execution_count": 36,
   "metadata": {},
   "outputs": [
    {
     "data": {
      "text/html": [
       " \n",
       "        <div class=\"alert alert-box alert-success\">\n",
       "        <h1> <font color=\"green\"> ✓ Correct </font> </h1>\n",
       "        </div>\n",
       "        "
      ],
      "text/plain": [
       "<IPython.core.display.HTML object>"
      ]
     },
     "metadata": {},
     "output_type": "display_data"
    },
    {
     "data": {
      "text/html": [
       " \n",
       "        <div class=\"alert alert-box alert-success\">\n",
       "        <h1> <font color=\"green\"> ✓ Correct </font> </h1>\n",
       "        </div>\n",
       "        "
      ],
      "text/plain": [
       "<IPython.core.display.HTML object>"
      ]
     },
     "metadata": {},
     "output_type": "display_data"
    }
   ],
   "source": [
    "curried_mul_and_add = curry(mul_and_add, 3)\n",
    "with tick.tick():\n",
    "    assert curried_mul_and_add(2)==None\n",
    "    assert curried_mul_and_add(3)==None\n",
    "    assert curried_mul_and_add(4)==10\n",
    "    assert curried_mul_and_add(4)==None\n",
    "    assert curried_mul_and_add(5)==None\n",
    "    assert curried_mul_and_add(6)==26\n",
    "\n",
    "curried_add = curry(lambda x,y: x+y, 2)\n",
    "\n",
    "with tick.tick():\n",
    "    assert curried_add(2) is None\n",
    "    assert curried_add(5)==7\n",
    "    assert curried_add(2) is None\n",
    "    assert curried_add(2)==4\n",
    "    assert curried_add(-10) is None\n",
    "    assert curried_add(10)==0"
   ]
  },
  {
   "cell_type": "markdown",
   "metadata": {},
   "source": []
  },
  {
   "cell_type": "markdown",
   "metadata": {},
   "source": [
    "## A.11 Higher-order functions\n",
    "Write a function `per_element(fns)`. This takes a list of functions `fns`, and returns **a new function** `f(list_of_lists)` that will apply each function in `fns` to the corresponding sublist element in the list-of-lists **list_of_lists**. \n",
    "\n",
    "So if `fns` is a pair of functions, the returned function will transform any list of pairs, applying `fn[0]` to the first element of each pair, and `fn[1]` to the second element of each pair.\n",
    "\n",
    "Examples:\n",
    "* `per_element([len])` should return a function, which when called with `[[\"one\"], [\"theory\"], [\"is\"]]`, should return [[3],[6],[2]]\n",
    "\n",
    "        f = per_element([len]) \n",
    "        print f([[\"one\"], [\"theory\"], [\"is\"]])\n",
    "\n",
    "        [[3], [6], [2]]\n",
    "\n",
    "* `per_element([lambda x:x*2, lambda x:\"constant\"])` should return a function, which when called with `[[1,1], [2,1], [4,2]]` should return `[[2,\"constant\"], [4,\"constant\"], [8, \"constant\"]]`\n",
    "\n",
    "        g = per_element([lambda x:x*2, lambda x:\"constant\"])\n",
    "        print g([[1,1], [2,1], [4,2]])\n",
    "\n",
    "        [[2,\"constant\"], [4,\"constant\"], [8, \"constant\"]]\n",
    "\n",
    "Make sure you return a **function** that will do the computation in the future. Don't do the computation itself inside `per_element`!\n"
   ]
  },
  {
   "cell_type": "code",
   "execution_count": 37,
   "metadata": {},
   "outputs": [],
   "source": [
    "# Solution goes here\n",
    "def per_element(fns):\n",
    "    def f(list_of_lists):\n",
    "        res = []\n",
    "        for l in list_of_lists:\n",
    "            small = []\n",
    "            ix = 0\n",
    "            for fn in fns:\n",
    "                small.append(fn(l[ix]))\n",
    "                ix += 1\n",
    "            res.append(small)\n",
    "            small = []\n",
    "        return res\n",
    "    return f"
   ]
  },
  {
   "cell_type": "code",
   "execution_count": 38,
   "metadata": {},
   "outputs": [
    {
     "name": "stdout",
     "output_type": "stream",
     "text": [
      "All OK!\n"
     ]
    },
    {
     "data": {
      "text/html": [
       " \n",
       "        <div class=\"alert alert-box alert-success\">\n",
       "        <h1> <font color=\"green\"> ✓ Correct </font> </h1>\n",
       "        </div>\n",
       "        "
      ],
      "text/plain": [
       "<IPython.core.display.HTML object>"
      ]
     },
     "metadata": {},
     "output_type": "display_data"
    }
   ],
   "source": [
    "## Tests\n",
    "with tick.tick():\n",
    "    f = per_element([len]) \n",
    "    assert(f([[\"one\"], [\"theory\"], [\"is\"]])==[[3],[6],[2]])\n",
    "    g = per_element([lambda x:x*2, lambda x:x])\n",
    "    assert(g([[1,1], [2,1], [4,2]])==[[2, 1], [4, 1], [8, 2]])\n",
    "    print(\"All OK!\")"
   ]
  }
 ],
 "metadata": {
  "kernelspec": {
   "display_name": "Python 3",
   "language": "python",
   "name": "python3"
  },
  "language_info": {
   "codemirror_mode": {
    "name": "ipython",
    "version": 3
   },
   "file_extension": ".py",
   "mimetype": "text/x-python",
   "name": "python",
   "nbconvert_exporter": "python",
   "pygments_lexer": "ipython3",
   "version": "3.7.3"
  },
  "toc": {
   "base_numbering": 1,
   "nav_menu": {},
   "number_sections": true,
   "sideBar": true,
   "skip_h1_title": false,
   "title_cell": "Table of Contents",
   "title_sidebar": "Contents",
   "toc_cell": false,
   "toc_position": {},
   "toc_section_display": true,
   "toc_window_display": false
  },
  "varInspector": {
   "cols": {
    "lenName": 16,
    "lenType": 16,
    "lenVar": 40
   },
   "kernels_config": {
    "python": {
     "delete_cmd_postfix": "",
     "delete_cmd_prefix": "del ",
     "library": "var_list.py",
     "varRefreshCmd": "print(var_dic_list())"
    },
    "r": {
     "delete_cmd_postfix": ") ",
     "delete_cmd_prefix": "rm(",
     "library": "var_list.r",
     "varRefreshCmd": "cat(var_dic_list()) "
    }
   },
   "types_to_exclude": [
    "module",
    "function",
    "builtin_function_or_method",
    "instance",
    "_Feature"
   ],
   "window_display": false
  }
 },
 "nbformat": 4,
 "nbformat_minor": 1
}
